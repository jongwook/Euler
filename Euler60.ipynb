{
 "cells": [
  {
   "cell_type": "markdown",
   "metadata": {},
   "source": [
    "The primes 3, 7, 109, and 673, are quite remarkable. By taking any two primes and concatenating them in any order the result will always be prime. For example, taking 7 and 109, both 7109 and 1097 are prime. The sum of these four primes, 792, represents the lowest sum for a set of four primes with this property.\n",
    "\n",
    "Find the lowest sum for a set of five primes for which any two primes concatenate to produce another prime."
   ]
  },
  {
   "cell_type": "code",
   "execution_count": 3,
   "metadata": {
    "collapsed": false
   },
   "outputs": [
    {
     "name": "stdout",
     "output_type": "stream",
     "text": [
      "26033\n"
     ]
    }
   ],
   "source": [
    "# Does not prove that there does not exist other sets with five primes with lower sums.\n",
    "from sympy import sieve, isprime\n",
    "\n",
    "primes = list(sieve.primerange(2, 10000))\n",
    "\n",
    "\n",
    "def all_concats_are_prime(primelist, prime_index):\n",
    "    primelist = [str(primes[i]) for i in primelist]\n",
    "    p1 = str(primes[prime_index])\n",
    "    return all(isprime(int(p1 + p2)) and isprime(int(p2 + p1)) for p2 in primelist)\n",
    "\n",
    "\n",
    "def find_primeset(primelist):\n",
    "    if len(primelist) == 5:\n",
    "        return primelist\n",
    "\n",
    "    start = primelist[-1] if primelist else 0\n",
    "\n",
    "    for i in range(start, len(primes)):\n",
    "        if all_concats_are_prime(primelist, i):\n",
    "            result = find_primeset(primelist + [i])\n",
    "            if result:\n",
    "                return result\n",
    "\n",
    "print sum([primes[p] for p in find_primeset([])])\n"
   ]
  }
 ],
 "metadata": {
  "kernelspec": {
   "display_name": "Python 2",
   "language": "python",
   "name": "python2"
  },
  "language_info": {
   "codemirror_mode": {
    "name": "ipython",
    "version": 2
   },
   "file_extension": ".py",
   "mimetype": "text/x-python",
   "name": "python",
   "nbconvert_exporter": "python",
   "pygments_lexer": "ipython2",
   "version": "2.7.6"
  }
 },
 "nbformat": 4,
 "nbformat_minor": 0
}
