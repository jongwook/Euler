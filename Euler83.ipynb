{
 "cells": [
  {
   "cell_type": "code",
   "execution_count": 3,
   "metadata": {
    "collapsed": false
   },
   "outputs": [
    {
     "name": "stdout",
     "output_type": "stream",
     "text": [
      "425185\n"
     ]
    }
   ],
   "source": [
    "import networkx as nx\n",
    "\n",
    "matrix = {(row, col): int(n) for row, line in enumerate(open('p083_matrix.txt')) for col, n in enumerate(line.split(','))}\n",
    "\n",
    "start, end = (0,-1), max(matrix)\n",
    "\n",
    "matrix[start] = 0\n",
    "\n",
    "directions = {(-1,0), (0,-1), (1,0), (0,1)}\n",
    "\n",
    "def moves(tile):\n",
    "    return {(tile[0] + move[0], tile[1] + move[1]) for move in directions} & set(matrix)\n",
    "\n",
    "G = nx.DiGraph()\n",
    "for tile in matrix:\n",
    "    for adjacent_tile in moves(tile):\n",
    "        G.add_edge(tile, adjacent_tile, weight = matrix[adjacent_tile])\n",
    "\n",
    "print nx.dijkstra_path_length(G, source=start, target=end)\n"
   ]
  }
 ],
 "metadata": {
  "kernelspec": {
   "display_name": "Python 2",
   "language": "python",
   "name": "python2"
  },
  "language_info": {
   "codemirror_mode": {
    "name": "ipython",
    "version": 2
   },
   "file_extension": ".py",
   "mimetype": "text/x-python",
   "name": "python",
   "nbconvert_exporter": "python",
   "pygments_lexer": "ipython2",
   "version": "2.7.11"
  }
 },
 "nbformat": 4,
 "nbformat_minor": 0
}
