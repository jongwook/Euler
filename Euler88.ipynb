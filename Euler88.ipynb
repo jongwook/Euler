{
 "cells": [
  {
   "cell_type": "code",
   "execution_count": 11,
   "metadata": {
    "collapsed": false
   },
   "outputs": [
    {
     "name": "stdout",
     "output_type": "stream",
     "text": [
      "7587457\n"
     ]
    }
   ],
   "source": [
    "from collections import defaultdict\n",
    "\n",
    "min_solutions = defaultdict(lambda: 10**9)\n",
    "ceiling = 12000\n",
    "\n",
    "def get_solutions(nfactors, nproduct, nsum):\n",
    "    k = nfactors + nproduct - nsum\n",
    "    if k > ceiling:\n",
    "        return\n",
    "    min_solutions[k] = min(min_solutions[k], nproduct)\n",
    "\n",
    "    for n in range(2, 2*ceiling / nproduct + 1):\n",
    "        get_solutions(nfactors+1, n*nproduct, nsum+n)\n",
    "\n",
    "get_solutions(1, 1, 1)\n",
    "\n",
    "print sum(set(val for k, val in min_solutions.items() if k >= 2))\n"
   ]
  }
 ],
 "metadata": {
  "kernelspec": {
   "display_name": "Python 2",
   "language": "python",
   "name": "python2"
  },
  "language_info": {
   "codemirror_mode": {
    "name": "ipython",
    "version": 2
   },
   "file_extension": ".py",
   "mimetype": "text/x-python",
   "name": "python",
   "nbconvert_exporter": "python",
   "pygments_lexer": "ipython2",
   "version": "2.7.6"
  }
 },
 "nbformat": 4,
 "nbformat_minor": 0
}
