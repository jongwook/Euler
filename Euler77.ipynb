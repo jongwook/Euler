{
 "cells": [
  {
   "cell_type": "markdown",
   "metadata": {},
   "source": [
    "Code reused from problem 31"
   ]
  },
  {
   "cell_type": "code",
   "execution_count": 1,
   "metadata": {
    "collapsed": false
   },
   "outputs": [
    {
     "name": "stdout",
     "output_type": "stream",
     "text": [
      "71\n"
     ]
    }
   ],
   "source": [
    "from sympy import sieve\n",
    "\n",
    "ceiling = 100\n",
    "\n",
    "ways = [1] + [0] * ceiling\n",
    "for prime in sieve.primerange(2, ceiling+1):\n",
    "    for i in range(len(ways) - prime):\n",
    "        ways[i + prime] += ways[i]\n",
    "     \n",
    "print min(i for i, number_of_ways in enumerate(ways) if number_of_ways > 5000)\n"
   ]
  }
 ],
 "metadata": {
  "kernelspec": {
   "display_name": "Python 2",
   "language": "python",
   "name": "python2"
  },
  "language_info": {
   "codemirror_mode": {
    "name": "ipython",
    "version": 2
   },
   "file_extension": ".py",
   "mimetype": "text/x-python",
   "name": "python",
   "nbconvert_exporter": "python",
   "pygments_lexer": "ipython2",
   "version": "2.7.6"
  }
 },
 "nbformat": 4,
 "nbformat_minor": 0
}
