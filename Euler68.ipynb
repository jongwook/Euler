{
 "cells": [
  {
   "cell_type": "code",
   "execution_count": 6,
   "metadata": {
    "collapsed": false
   },
   "outputs": [
    {
     "name": "stdout",
     "output_type": "stream",
     "text": [
      "6531031914842725\n"
     ]
    }
   ],
   "source": [
    "from itertools import permutations\n",
    "\n",
    "def magic_strings():\n",
    "    arms = [[0, 5, 6], [1, 6, 7], [2, 7, 8], [3, 8, 9], [4, 9, 5]]\n",
    "    for ring in permutations(range(1, 11)):\n",
    "        if all(ring[0] < ring[i] for i in range(1, 5)):  # Use only one of the five symmetrical configurations\n",
    "            if len(set(sum(ring[i] for i in arms[j]) for j in range(5))) == 1:  # All arms have equal sum\n",
    "                s = \"\".join((str(ring[arms[i][j]]) for i in range(5) for j in range(3)))\n",
    "                if len(s) == 16:\n",
    "                    yield s\n",
    "\n",
    "print max(magic_strings())\n"
   ]
  }
 ],
 "metadata": {
  "kernelspec": {
   "display_name": "Python 2",
   "language": "python",
   "name": "python2"
  },
  "language_info": {
   "codemirror_mode": {
    "name": "ipython",
    "version": 2
   },
   "file_extension": ".py",
   "mimetype": "text/x-python",
   "name": "python",
   "nbconvert_exporter": "python",
   "pygments_lexer": "ipython2",
   "version": "2.7.6"
  }
 },
 "nbformat": 4,
 "nbformat_minor": 0
}
