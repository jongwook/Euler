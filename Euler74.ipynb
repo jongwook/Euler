{
 "cells": [
  {
   "cell_type": "code",
   "execution_count": 6,
   "metadata": {
    "collapsed": false
   },
   "outputs": [
    {
     "name": "stdout",
     "output_type": "stream",
     "text": [
      "402\n"
     ]
    }
   ],
   "source": [
    "from math import factorial\n",
    "from itertools import count\n",
    "\n",
    "chain_length = {\n",
    "    169: 3,\n",
    "    363601: 3,\n",
    "    1454: 3,\n",
    "    871: 2,\n",
    "    45361: 2,\n",
    "    872: 2,\n",
    "    45362: 2\n",
    "}\n",
    "\n",
    "def chain(n):\n",
    "    for steps in count(0):\n",
    "        if n in chain_length:\n",
    "            return steps + chain_length[n]\n",
    "        next_n = sum(factorial(int(digit)) for digit in str(n))\n",
    "        if next_n == n:\n",
    "            return steps + 1\n",
    "        n = next_n\n",
    "\n",
    "for number in range(1, 10**6):\n",
    "    chain_length[number] = chain(number)\n",
    "\n",
    "print sum(length == 60 for length in chain_length.values())"
   ]
  }
 ],
 "metadata": {
  "kernelspec": {
   "display_name": "Python 2",
   "language": "python",
   "name": "python2"
  },
  "language_info": {
   "codemirror_mode": {
    "name": "ipython",
    "version": 2
   },
   "file_extension": ".py",
   "mimetype": "text/x-python",
   "name": "python",
   "nbconvert_exporter": "python",
   "pygments_lexer": "ipython2",
   "version": "2.7.6"
  }
 },
 "nbformat": 4,
 "nbformat_minor": 0
}
