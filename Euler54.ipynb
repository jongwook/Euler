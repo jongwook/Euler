{
 "cells": [
  {
   "cell_type": "markdown",
   "metadata": {},
   "source": [
    "In the card game poker, a hand consists of five cards and are ranked, from lowest to highest, in the following way:\n",
    "\n",
    "High Card: Highest value card.\n",
    "One Pair: Two cards of the same value.\n",
    "Two Pairs: Two different pairs.\n",
    "Three of a Kind: Three cards of the same value.\n",
    "Straight: All cards are consecutive values.\n",
    "Flush: All cards of the same suit.\n",
    "Full House: Three of a kind and a pair.\n",
    "Four of a Kind: Four cards of the same value.\n",
    "Straight Flush: All cards are consecutive values of same suit.\n",
    "Royal Flush: Ten, Jack, Queen, King, Ace, in same suit.\n",
    "The cards are valued in the order:\n",
    "2, 3, 4, 5, 6, 7, 8, 9, 10, Jack, Queen, King, Ace.\n",
    "\n",
    "If two players have the same ranked hands then the rank made up of the highest value wins; for example, a pair of eights beats a pair of fives (see example 1 below). But if two ranks tie, for example, both players have a pair of queens, then highest cards in each hand are compared (see example 4 below); if the highest cards tie then the next highest cards are compared, and so on.\n",
    "\n",
    "Consider the following five hands dealt to two players:\n",
    "\n",
    "[...]\n",
    "\n",
    "The file, poker.txt, contains one-thousand random hands dealt to two players. Each line of the file contains ten cards (separated by a single space): the first five are Player 1's cards and the last five are Player 2's cards. You can assume that all hands are valid (no invalid characters or repeated cards), each player's hand is in no specific order, and in each hand there is a clear winner.\n",
    "\n",
    "How many hands does Player 1 win?"
   ]
  },
  {
   "cell_type": "code",
   "execution_count": 6,
   "metadata": {
    "collapsed": false
   },
   "outputs": [
    {
     "name": "stdout",
     "output_type": "stream",
     "text": [
      "376\n"
     ]
    }
   ],
   "source": [
    "from collections import Counter\n",
    "from itertools import groupby\n",
    "from operator import itemgetter\n",
    "\n",
    "\n",
    "def rank(hand):\n",
    "    values = ['xx23456789TJQKA'.find(card[0]) for card in hand]\n",
    "    suits = [card[1] for card in hand]\n",
    "    flush = len(set(suits)) == 1\n",
    "    straight = any(i for i in range(1, 11) if all(i+j in values for j in range(5)))\n",
    "    counts = Counter(values).most_common()\n",
    "    order = []\n",
    "    for key, item in groupby(counts, itemgetter(1)):\n",
    "        order += sorted([elem[0] for elem in item], reverse=True)\n",
    "    if straight and flush:\n",
    "        return [8] + order\n",
    "    if counts[0][1] == 4:\n",
    "        return [7] + order\n",
    "    if counts[0][1] == 3 and counts[1][1] == 2:\n",
    "        return [6] + order\n",
    "    if flush:\n",
    "        return [5] + order\n",
    "    if straight:\n",
    "        return [4] + order\n",
    "    if counts[0][1] == 3:\n",
    "        return [3] + order\n",
    "    if counts[0][1] == 2 and counts[1][1] == 2:\n",
    "        return [2] + order\n",
    "    if counts[0][1] == 2:\n",
    "        return [1] + order\n",
    "    return [0] + order\n",
    "\n",
    "\n",
    "def hands():\n",
    "    with open('Euler54.txt') as inp:\n",
    "        for line in inp.readlines():\n",
    "            yield line.split()[:5], line.split()[5:]\n",
    "\n",
    "print sum(rank(hand1) > rank(hand2) for hand1, hand2 in hands())\n"
   ]
  }
 ],
 "metadata": {
  "kernelspec": {
   "display_name": "Python 2",
   "language": "python",
   "name": "python2"
  },
  "language_info": {
   "codemirror_mode": {
    "name": "ipython",
    "version": 2
   },
   "file_extension": ".py",
   "mimetype": "text/x-python",
   "name": "python",
   "nbconvert_exporter": "python",
   "pygments_lexer": "ipython2",
   "version": "2.7.6"
  }
 },
 "nbformat": 4,
 "nbformat_minor": 0
}
