{
 "cells": [
  {
   "cell_type": "markdown",
   "metadata": {},
   "source": [
    "If we take 47, reverse and add, 47 + 74 = 121, which is palindromic.\n",
    "\n",
    "Not all numbers produce palindromes so quickly. For example,\n",
    "\n",
    "349 + 943 = 1292,\n",
    "1292 + 2921 = 4213\n",
    "4213 + 3124 = 7337\n",
    "\n",
    "That is, 349 took three iterations to arrive at a palindrome.\n",
    "\n",
    "Although no one has proved it yet, it is thought that some numbers, like 196, never produce a palindrome. A number that never forms a palindrome through the reverse and add process is called a Lychrel number. Due to the theoretical nature of these numbers, and for the purpose of this problem, we shall assume that a number is Lychrel until proven otherwise. In addition you are given that for every number below ten-thousand, it will either (i) become a palindrome in less than fifty iterations, or, (ii) no one, with all the computing power that exists, has managed so far to map it to a palindrome. In fact, 10677 is the first number to be shown to require over fifty iterations before producing a palindrome: 4668731596684224866951378664 (53 iterations, 28-digits).\n",
    "\n",
    "Surprisingly, there are palindromic numbers that are themselves Lychrel numbers; the first example is 4994.\n",
    "\n",
    "How many Lychrel numbers are there below ten-thousand?\n",
    "\n",
    "NOTE: Wording was modified slightly on 24 April 2007 to emphasise the theoretical nature of Lychrel numbers."
   ]
  },
  {
   "cell_type": "code",
   "execution_count": 1,
   "metadata": {
    "collapsed": false
   },
   "outputs": [
    {
     "name": "stdout",
     "output_type": "stream",
     "text": [
      "249\n"
     ]
    }
   ],
   "source": [
    "from itertools import count\n",
    "\n",
    "max_iterations = 50\n",
    "\n",
    "def is_lychrel(n):\n",
    "    for _ in range(max_iterations):\n",
    "        n = str(int(n) + int(str(n)[::-1]))\n",
    "        if n == n[::-1]:\n",
    "            return False\n",
    "    return True\n",
    "\n",
    "print sum(is_lychrel(n) for n in range(10000))\n"
   ]
  }
 ],
 "metadata": {
  "kernelspec": {
   "display_name": "Python 2",
   "language": "python",
   "name": "python2"
  },
  "language_info": {
   "codemirror_mode": {
    "name": "ipython",
    "version": 2
   },
   "file_extension": ".py",
   "mimetype": "text/x-python",
   "name": "python",
   "nbconvert_exporter": "python",
   "pygments_lexer": "ipython2",
   "version": "2.7.6"
  }
 },
 "nbformat": 4,
 "nbformat_minor": 0
}
