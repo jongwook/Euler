{
 "cells": [
  {
   "cell_type": "code",
   "execution_count": 68,
   "metadata": {
    "collapsed": false
   },
   "outputs": [
    {
     "name": "stdout",
     "output_type": "stream",
     "text": [
      "743\n"
     ]
    }
   ],
   "source": [
    "romans = [line.strip() for line in open('Euler89.txt')]\n",
    "\n",
    "savedict = {'VIIII': 1, 'IIII': 2, 'LXXXX': 1, 'XXXX': 2, 'DCCCC': 1, 'CCCC': 2}\n",
    "\n",
    "print sum(val for roman in romans for key, val in savedict.items() if key in roman)\n"
   ]
  }
 ],
 "metadata": {
  "kernelspec": {
   "display_name": "Python 2",
   "language": "python",
   "name": "python2"
  },
  "language_info": {
   "codemirror_mode": {
    "name": "ipython",
    "version": 2
   },
   "file_extension": ".py",
   "mimetype": "text/x-python",
   "name": "python",
   "nbconvert_exporter": "python",
   "pygments_lexer": "ipython2",
   "version": "2.7.6"
  }
 },
 "nbformat": 4,
 "nbformat_minor": 0
}
