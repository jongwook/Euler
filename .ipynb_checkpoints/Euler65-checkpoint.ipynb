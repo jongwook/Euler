{
 "cells": [
  {
   "cell_type": "code",
   "execution_count": 3,
   "metadata": {
    "collapsed": false
   },
   "outputs": [
    {
     "name": "stdout",
     "output_type": "stream",
     "text": [
      "272\n"
     ]
    }
   ],
   "source": [
    "def continued_fraction(i):\n",
    "    if i % 3 == 2:\n",
    "        return i / 3 * 2 + 2\n",
    "    else:\n",
    "        return 1\n",
    "\n",
    "numerator, denominator = 2, 1\n",
    "for i in range(1, 100):\n",
    "    numerator, denominator = continued_fraction(i) * numerator + denominator, numerator\n",
    "\n",
    "print sum(int(digit) for digit in str(numerator))"
   ]
  }
 ],
 "metadata": {
  "kernelspec": {
   "display_name": "Python 2",
   "language": "python",
   "name": "python2"
  },
  "language_info": {
   "codemirror_mode": {
    "name": "ipython",
    "version": 2
   },
   "file_extension": ".py",
   "mimetype": "text/x-python",
   "name": "python",
   "nbconvert_exporter": "python",
   "pygments_lexer": "ipython2",
   "version": "2.7.6"
  }
 },
 "nbformat": 4,
 "nbformat_minor": 0
}
