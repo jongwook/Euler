{
 "cells": [
  {
   "cell_type": "markdown",
   "metadata": {
    "collapsed": false
   },
   "source": [
    "Formula from https://en.wikipedia.org/wiki/Pythagorean_triple#Generating_a_triple\n"
   ]
  },
  {
   "cell_type": "code",
   "execution_count": 4,
   "metadata": {
    "collapsed": false
   },
   "outputs": [
    {
     "name": "stdout",
     "output_type": "stream",
     "text": [
      "161667\n"
     ]
    }
   ],
   "source": [
    "from math import sqrt\n",
    "from collections import defaultdict\n",
    "from fractions import gcd\n",
    "from itertools import count\n",
    "\n",
    "d = defaultdict(int)\n",
    "\n",
    "ceiling = 1500000\n",
    "\n",
    "for n in range(1, int(sqrt(ceiling))):\n",
    "    for m in range(n+1, int(sqrt(ceiling)), 2):\n",
    "        if gcd(m, n) == 1:\n",
    "            for k in count(1):\n",
    "                L = k*(m**2 - n**2 + 2*m*n + m**2 + n**2)\n",
    "                if L > ceiling:\n",
    "                    break\n",
    "                d[L] += 1\n",
    "\n",
    "print sum(value == 1 for value in d.values())\n"
   ]
  }
 ],
 "metadata": {
  "kernelspec": {
   "display_name": "Python 2",
   "language": "python",
   "name": "python2"
  },
  "language_info": {
   "codemirror_mode": {
    "name": "ipython",
    "version": 2
   },
   "file_extension": ".py",
   "mimetype": "text/x-python",
   "name": "python",
   "nbconvert_exporter": "python",
   "pygments_lexer": "ipython2",
   "version": "2.7.6"
  }
 },
 "nbformat": 4,
 "nbformat_minor": 0
}
