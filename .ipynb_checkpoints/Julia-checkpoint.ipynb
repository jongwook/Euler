{
 "cells": [
  {
   "cell_type": "markdown",
   "metadata": {},
   "source": [
    "### [Problem 1](https://projecteuler.net/problem=1)\n",
    "\n",
    "Add all the natural numbers below one thousand that are multiples of 3 or 5."
   ]
  },
  {
   "cell_type": "code",
   "execution_count": 4,
   "metadata": {
    "collapsed": false
   },
   "outputs": [
    {
     "data": {
      "text/plain": [
       "233168"
      ]
     },
     "execution_count": 4,
     "metadata": {},
     "output_type": "execute_result"
    }
   ],
   "source": [
    "sum(filter(x -> x%3==0 || x%5==0, 1:999))"
   ]
  },
  {
   "cell_type": "markdown",
   "metadata": {},
   "source": [
    "### [Problem 2](https://projecteuler.net/problem=2)\n",
    "\n",
    "Find the sum of all the even-valued terms in the Fibonacci sequence which do not exceed four million."
   ]
  },
  {
   "cell_type": "code",
   "execution_count": 52,
   "metadata": {
    "collapsed": false
   },
   "outputs": [
    {
     "data": {
      "text/plain": [
       "4613732"
      ]
     },
     "execution_count": 52,
     "metadata": {},
     "output_type": "execute_result"
    }
   ],
   "source": [
    "using Lazy\n",
    "\n",
    "fib = map(t -> t[1], Lazy.iterate(t -> (t[2], t[1] + t[2]), (1,1)))\n",
    "\n",
    "sum(filter(iseven, takewhile(n -> n < 4*10^6, fib)))"
   ]
  },
  {
   "cell_type": "markdown",
   "metadata": {},
   "source": [
    "### [Problem 3](https://projecteuler.net/problem=3)\n",
    "\n",
    "Find the largest prime factor."
   ]
  },
  {
   "cell_type": "code",
   "execution_count": 1,
   "metadata": {
    "collapsed": false
   },
   "outputs": [
    {
     "data": {
      "text/plain": [
       "6857"
      ]
     },
     "execution_count": 1,
     "metadata": {},
     "output_type": "execute_result"
    }
   ],
   "source": [
    "maximum(keys(factor(600851475143)))"
   ]
  },
  {
   "cell_type": "markdown",
   "metadata": {},
   "source": [
    "### [Problem 4](https://projecteuler.net/problem=4)\n",
    "\n",
    "Find the largest palindrome made from the product of two 3-digit numbers."
   ]
  },
  {
   "cell_type": "code",
   "execution_count": 6,
   "metadata": {
    "collapsed": false
   },
   "outputs": [
    {
     "data": {
      "text/plain": [
       "906609"
      ]
     },
     "execution_count": 6,
     "metadata": {},
     "output_type": "execute_result"
    }
   ],
   "source": [
    "using Digits\n",
    "\n",
    "maximum(filter(ispalindrome, [x*y for x in 100:999, y in 100:999]))"
   ]
  },
  {
   "cell_type": "markdown",
   "metadata": {},
   "source": [
    "### [Problem 5](https://projecteuler.net/problem=5)\n",
    "\n",
    "What is the smallest number divisible by each of the numbers 1 to 20?"
   ]
  },
  {
   "cell_type": "code",
   "execution_count": 2,
   "metadata": {
    "collapsed": false
   },
   "outputs": [
    {
     "data": {
      "text/plain": [
       "232792560"
      ]
     },
     "execution_count": 2,
     "metadata": {},
     "output_type": "execute_result"
    }
   ],
   "source": [
    "lcm(1:20)"
   ]
  },
  {
   "cell_type": "markdown",
   "metadata": {},
   "source": [
    "### [Problem 6](https://projecteuler.net/problem=6)\n",
    "\n",
    "What is the difference between the sum of the squares and the square of the sums?"
   ]
  },
  {
   "cell_type": "code",
   "execution_count": 8,
   "metadata": {
    "collapsed": false
   },
   "outputs": [
    {
     "data": {
      "text/plain": [
       "25164150"
      ]
     },
     "execution_count": 8,
     "metadata": {},
     "output_type": "execute_result"
    }
   ],
   "source": [
    "sum(1:100)^2 - sum([n^2 for n in 1:100])"
   ]
  },
  {
   "cell_type": "markdown",
   "metadata": {},
   "source": [
    "### [Problem 7](https://projecteuler.net/problem=7)\n",
    "\n",
    "Find the 10001st prime."
   ]
  },
  {
   "cell_type": "code",
   "execution_count": 9,
   "metadata": {
    "collapsed": false
   },
   "outputs": [
    {
     "data": {
      "text/plain": [
       "104743"
      ]
     },
     "execution_count": 9,
     "metadata": {},
     "output_type": "execute_result"
    }
   ],
   "source": [
    "primes(10^6)[10001]"
   ]
  },
  {
   "cell_type": "markdown",
   "metadata": {},
   "source": [
    "### [Problem 8](https://projecteuler.net/problem=8)\n",
    "\n",
    "Discover the largest product of 13 consecutive digits in the 1000-digit number."
   ]
  },
  {
   "cell_type": "code",
   "execution_count": 1,
   "metadata": {
    "collapsed": false
   },
   "outputs": [
    {
     "data": {
      "text/plain": [
       "23514624000"
      ]
     },
     "execution_count": 1,
     "metadata": {},
     "output_type": "execute_result"
    }
   ],
   "source": [
    "n = [parse(Int, char) for char in readall(\"files/p008_number.txt\")]\n",
    "\n",
    "maximum([prod(n[i:i+12]) for i in 1:length(n)-12])"
   ]
  },
  {
   "cell_type": "markdown",
   "metadata": {},
   "source": [
    "### [Problem 9](https://projecteuler.net/problem=9)\n",
    "\n",
    "Find the only Pythagorean triplet, {a, b, c}, for which a + b + c = 1000."
   ]
  },
  {
   "cell_type": "code",
   "execution_count": 11,
   "metadata": {
    "collapsed": false,
    "scrolled": true
   },
   "outputs": [
    {
     "name": "stdout",
     "output_type": "stream",
     "text": [
      "31875000"
     ]
    }
   ],
   "source": [
    "n = 1000\n",
    "for a = 1:n, b = 1:n-a, c = n-a-b\n",
    "    if a^2 + b^2 == c^2\n",
    "        print(a*b*c)\n",
    "        break\n",
    "    end\n",
    "end"
   ]
  },
  {
   "cell_type": "markdown",
   "metadata": {},
   "source": [
    "### [Problem 10](https://projecteuler.net/problem=10)\n",
    "\n",
    "Calculate the sum of all the primes below two million."
   ]
  },
  {
   "cell_type": "code",
   "execution_count": 12,
   "metadata": {
    "collapsed": false
   },
   "outputs": [
    {
     "data": {
      "text/plain": [
       "142913828922"
      ]
     },
     "execution_count": 12,
     "metadata": {},
     "output_type": "execute_result"
    }
   ],
   "source": [
    "sum(primes(2*10^6))"
   ]
  },
  {
   "cell_type": "markdown",
   "metadata": {},
   "source": [
    "### [Problem 11](https://projecteuler.net/problem=11)\n",
    "\n",
    "What is the greatest product of four numbers on the same straight line in the 20 by 20 grid?"
   ]
  },
  {
   "cell_type": "code",
   "execution_count": 3,
   "metadata": {
    "collapsed": false
   },
   "outputs": [
    {
     "data": {
      "text/plain": [
       "70600674"
      ]
     },
     "execution_count": 3,
     "metadata": {},
     "output_type": "execute_result"
    }
   ],
   "source": [
    "using Iterators\n",
    "\n",
    "a = readdlm(\"files/p011_grid.txt\")\n",
    "n = size(a, 1)\n",
    "\n",
    "tile(i, j) = 1 <= i <= n && 1 <= j <= n ? a[i, j] : 0\n",
    "line_value(start, direction) = prod([tile(start[1] + direction[1] * k, start[2] + direction[2] * k) for k in 0:3])\n",
    "\n",
    "starts = product(1:n, 1:n)\n",
    "directions = [(-1,-1), (-1,1), (1,-1), (1,1)]\n",
    "\n",
    "Int(maximum(map(tuple -> line_value(tuple...), product(starts, directions))))"
   ]
  },
  {
   "cell_type": "markdown",
   "metadata": {
    "collapsed": true
   },
   "source": [
    "### [Problem 12](https://projecteuler.net/problem=12)\n",
    "\n",
    "What is the value of the first triangle number to have over five hundred divisors?"
   ]
  },
  {
   "cell_type": "code",
   "execution_count": 16,
   "metadata": {
    "collapsed": false
   },
   "outputs": [
    {
     "data": {
      "text/plain": [
       "76576500"
      ]
     },
     "execution_count": 16,
     "metadata": {},
     "output_type": "execute_result"
    }
   ],
   "source": [
    "divisors(n) = prod([v+1 for v in values(factor(n))])\n",
    "\n",
    "triangle = 0\n",
    "for n in countfrom()\n",
    "    triangle += n\n",
    "    divisors(triangle) > 500 && break\n",
    "end\n",
    "\n",
    "triangle"
   ]
  },
  {
   "cell_type": "markdown",
   "metadata": {
    "collapsed": true
   },
   "source": [
    "### [Problem 13](https://projecteuler.net/problem=13)\n",
    "\n",
    "Find the first ten digits of the sum of one-hundred 50-digit numbers."
   ]
  },
  {
   "cell_type": "code",
   "execution_count": 4,
   "metadata": {
    "collapsed": false
   },
   "outputs": [
    {
     "data": {
      "text/plain": [
       "5537376230"
      ]
     },
     "execution_count": 4,
     "metadata": {},
     "output_type": "execute_result"
    }
   ],
   "source": [
    "using Digits\n",
    "\n",
    "a = readdlm(\"files/p013_numbers.txt\")\n",
    "\n",
    "Digits.select(BigInt(sum(a)), 1:10)"
   ]
  },
  {
   "cell_type": "markdown",
   "metadata": {},
   "source": [
    "### [Problem 14](https://projecteuler.net/problem=14)\n",
    "\n",
    "Find the longest sequence using a starting number under one million."
   ]
  },
  {
   "cell_type": "code",
   "execution_count": 53,
   "metadata": {
    "collapsed": false
   },
   "outputs": [
    {
     "data": {
      "text/plain": [
       "837799"
      ]
     },
     "execution_count": 53,
     "metadata": {},
     "output_type": "execute_result"
    }
   ],
   "source": [
    "function collatz(n)\n",
    "    n == 1 && return 1\n",
    "    iseven(n) && return collatz(div(n,2)) + 1\n",
    "    isodd(n) && return collatz(3*n + 1) + 1\n",
    "end\n",
    "\n",
    "maximum([(collatz(n), n) for n in 1:10^6])[2]"
   ]
  },
  {
   "cell_type": "markdown",
   "metadata": {},
   "source": [
    "### [Problem 15](https://projecteuler.net/problem=15)\n",
    "\n",
    "Starting in the top left corner in a 20 by 20 grid, how many routes are there to the bottom right corner?"
   ]
  },
  {
   "cell_type": "code",
   "execution_count": 24,
   "metadata": {
    "collapsed": false
   },
   "outputs": [
    {
     "data": {
      "text/plain": [
       "137846528820"
      ]
     },
     "execution_count": 24,
     "metadata": {},
     "output_type": "execute_result"
    }
   ],
   "source": [
    "using Distributions\n",
    "\n",
    "binomial(40, 20)"
   ]
  },
  {
   "cell_type": "markdown",
   "metadata": {},
   "source": [
    "### [Problem 16](https://projecteuler.net/problem=16)\n",
    "\n",
    "What is the sum of the digits of the number 21000?"
   ]
  },
  {
   "cell_type": "code",
   "execution_count": 3,
   "metadata": {
    "collapsed": false
   },
   "outputs": [
    {
     "data": {
      "text/plain": [
       "1366"
      ]
     },
     "execution_count": 3,
     "metadata": {},
     "output_type": "execute_result"
    }
   ],
   "source": [
    "sum(digits(BigInt(2)^1000))"
   ]
  },
  {
   "cell_type": "markdown",
   "metadata": {},
   "source": [
    "### [Problem 17](https://projecteuler.net/problem=17)\n",
    "\n",
    "How many letters would be needed to write all the numbers in words from 1 to 1000?"
   ]
  },
  {
   "cell_type": "code",
   "execution_count": 54,
   "metadata": {
    "collapsed": false
   },
   "outputs": [
    {
     "data": {
      "text/plain": [
       "21124"
      ]
     },
     "execution_count": 54,
     "metadata": {},
     "output_type": "execute_result"
    }
   ],
   "source": [
    "ones = [\"one\", \"two\", \"three\", \"four\", \"five\", \"six\", \"seven\", \"eight\", \"nine\", \"ten\", \"eleven\", \n",
    "    \"twelve\", \"thirteen\", \"fourteen\", \"fifteen\", \"sixteen\", \"seventeen\", \"eighteen\", \"nineteen\"]\n",
    "tens = [\"ten\", \"twenty\", \"thirty\", \"forty\", \"fifty\", \"sixty\", \"seventy\", \"eighty\", \"ninety\"]\n",
    "\n",
    "function number_in_english(n)\n",
    "    s = \"\"\n",
    "\n",
    "    if n == 1000\n",
    "        s *= \"onethousand\"\n",
    "        n = n % 1000\n",
    "    end\n",
    "    \n",
    "    if n >= 100\n",
    "        s *= ones[fld(n, 100)] * \"hundred\"\n",
    "        n = n % 100\n",
    "        if n > 0\n",
    "            s *= \"and\"\n",
    "        end\n",
    "    end\n",
    "    \n",
    "    if n >= 20\n",
    "        s *= tens[fld(n, 10)]\n",
    "        n = n % 10\n",
    "    end\n",
    "\n",
    "    if n > 0\n",
    "        s *= ones[n]\n",
    "    end\n",
    "    \n",
    "    s\n",
    "end\n",
    "\n",
    "sum([length(number_in_english(n)) for n in 1:1000])"
   ]
  },
  {
   "cell_type": "markdown",
   "metadata": {},
   "source": [
    "### [Problem 18](https://projecteuler.net/problem=18)\n",
    "\n",
    "Find the maximum sum traveling from the top of the triangle to the base."
   ]
  },
  {
   "cell_type": "code",
   "execution_count": 5,
   "metadata": {
    "collapsed": false
   },
   "outputs": [
    {
     "data": {
      "text/plain": [
       "1074"
      ]
     },
     "execution_count": 5,
     "metadata": {},
     "output_type": "execute_result"
    }
   ],
   "source": [
    "a = readdlm(\"files/p018_triangle.txt\")\n",
    "\n",
    "for row in reverse(1:size(a, 2)-1), col in 1:row\n",
    "    a[row, col] += max(a[row+1, col], a[row+1, col+1])\n",
    "end\n",
    "\n",
    "a[1, 1]"
   ]
  },
  {
   "cell_type": "markdown",
   "metadata": {},
   "source": [
    "### [Problem 19](https://projecteuler.net/problem=19)\n",
    "\n",
    "How many Sundays fell on the first of the month during the twentieth century?"
   ]
  },
  {
   "cell_type": "code",
   "execution_count": 28,
   "metadata": {
    "collapsed": false
   },
   "outputs": [
    {
     "data": {
      "text/plain": [
       "171"
      ]
     },
     "execution_count": 28,
     "metadata": {},
     "output_type": "execute_result"
    }
   ],
   "source": [
    "length(filter(date -> Dates.day(date) == 1 && Dates.dayofweek(date) == 7, Date(1901, 1, 1):Date(2000, 12, 31)))"
   ]
  },
  {
   "cell_type": "markdown",
   "metadata": {},
   "source": [
    "### [Problem 20](https://projecteuler.net/problem=20)\n",
    "\n",
    "Find the sum of digits in 100!"
   ]
  },
  {
   "cell_type": "code",
   "execution_count": 29,
   "metadata": {
    "collapsed": false
   },
   "outputs": [
    {
     "data": {
      "text/plain": [
       "648"
      ]
     },
     "execution_count": 29,
     "metadata": {},
     "output_type": "execute_result"
    }
   ],
   "source": [
    "sum(digits(factorial(BigInt(100))))"
   ]
  },
  {
   "cell_type": "markdown",
   "metadata": {},
   "source": [
    "### [Problem 21](https://projecteuler.net/problem=21)\n",
    "\n",
    "Evaluate the sum of all amicable pairs under 10000."
   ]
  },
  {
   "cell_type": "code",
   "execution_count": 30,
   "metadata": {
    "collapsed": false
   },
   "outputs": [
    {
     "data": {
      "text/plain": [
       "31626"
      ]
     },
     "execution_count": 30,
     "metadata": {},
     "output_type": "execute_result"
    }
   ],
   "source": [
    "Σ_divisors(n) = n == 1 ? 0 : sum(filter(i -> n % i == 0, 1:div(n,2)))\n",
    "\n",
    "Σ_amicable = 0\n",
    "for a in 2:10^4\n",
    "    b = Σ_divisors(a)\n",
    "    if a != b && Σ_divisors(b) == a\n",
    "        Σ_amicable += a\n",
    "    end\n",
    "end\n",
    "\n",
    "Σ_amicable"
   ]
  },
  {
   "cell_type": "markdown",
   "metadata": {},
   "source": [
    "### [Problem 22](https://projecteuler.net/problem=22)\n",
    "\n",
    "What is the total of all the name scores in the file of first names?"
   ]
  },
  {
   "cell_type": "code",
   "execution_count": 6,
   "metadata": {
    "collapsed": false
   },
   "outputs": [
    {
     "data": {
      "text/plain": [
       "871198282"
      ]
     },
     "execution_count": 6,
     "metadata": {},
     "output_type": "execute_result"
    }
   ],
   "source": [
    "names = sort(vec(readdlm(\"files/p022_names.txt\", ',', ASCIIString)))\n",
    "\n",
    "d = {letter => value for (value, letter) in enumerate('A':'Z')}\n",
    "score(name) = sum([d[char] for char in name])\n",
    "\n",
    "sum([score(name) * i for (i, name) in enumerate(names)])"
   ]
  },
  {
   "cell_type": "markdown",
   "metadata": {},
   "source": [
    "### [Problem 23](https://projecteuler.net/problem=23)\n",
    "\n",
    "Find the sum of all the positive integers which cannot be written as the sum of two abundant numbers."
   ]
  },
  {
   "cell_type": "code",
   "execution_count": 1,
   "metadata": {
    "collapsed": false
   },
   "outputs": [
    {
     "data": {
      "text/plain": [
       "4179871"
      ]
     },
     "execution_count": 1,
     "metadata": {},
     "output_type": "execute_result"
    }
   ],
   "source": [
    "Σ_divisors(n) = sum(filter(i -> n % i == 0, 1:div(n,2)))\n",
    "\n",
    "const ceiling = 28123\n",
    "\n",
    "abundant_numbers = filter(n -> Σ_divisors(n) > n, 2:ceiling)\n",
    "sum_of_two_abundant_numbers = Set([i+j for i in abundant_numbers, j in abundant_numbers])\n",
    "sum(setdiff(Set(1:ceiling), sum_of_two_abundant_numbers))"
   ]
  },
  {
   "cell_type": "markdown",
   "metadata": {},
   "source": [
    "### [Problem 24](https://projecteuler.net/problem=24)\n",
    "\n",
    "What is the millionth lexicographic permutation of the digits 0, 1, 2, 3, 4, 5, 6, 7, 8 and 9?"
   ]
  },
  {
   "cell_type": "code",
   "execution_count": 4,
   "metadata": {
    "collapsed": false
   },
   "outputs": [
    {
     "data": {
      "text/plain": [
       "2783915460"
      ]
     },
     "execution_count": 4,
     "metadata": {},
     "output_type": "execute_result"
    }
   ],
   "source": [
    "combine(nthperm(collect(0:9), 10^6))"
   ]
  },
  {
   "cell_type": "markdown",
   "metadata": {},
   "source": [
    "### [Problem 25](https://projecteuler.net/problem=25)\n",
    "\n",
    "What is the first term in the Fibonacci sequence to contain 1000 digits?"
   ]
  },
  {
   "cell_type": "code",
   "execution_count": 16,
   "metadata": {
    "collapsed": false
   },
   "outputs": [
    {
     "data": {
      "text/plain": [
       "4782"
      ]
     },
     "execution_count": 16,
     "metadata": {},
     "output_type": "execute_result"
    }
   ],
   "source": [
    "a, b, i, roundoff = BigInt(0), BigInt(1), 0, 0\n",
    "\n",
    "while log10(a) + 1 + roundoff < 1000\n",
    "    a, b, i = b, a + b, i + 1\n",
    "    if a > 10^9\n",
    "        a, b = fld(a, 10), fld(b, 10)\n",
    "        roundoff += 1\n",
    "    end\n",
    "end\n",
    "i"
   ]
  },
  {
   "cell_type": "markdown",
   "metadata": {},
   "source": [
    "### [Problem 26](https://projecteuler.net/problem=26)\n",
    "\n",
    "Find the value of d < 1000 for which 1/d contains the longest recurring cycle."
   ]
  },
  {
   "cell_type": "code",
   "execution_count": 31,
   "metadata": {
    "collapsed": false
   },
   "outputs": [
    {
     "data": {
      "text/plain": [
       "983"
      ]
     },
     "execution_count": 31,
     "metadata": {},
     "output_type": "execute_result"
    }
   ],
   "source": [
    "function cycle_length(d)\n",
    "    d = BigInt(d)\n",
    "    for k in 1:d\n",
    "        if 10^k % d == 1\n",
    "            return k\n",
    "        end\n",
    "    end\n",
    "    return 0\n",
    "end\n",
    "\n",
    "indmax([cycle_length(d) for d in 1:999])"
   ]
  },
  {
   "cell_type": "markdown",
   "metadata": {},
   "source": [
    "### [Problem 27](https://projecteuler.net/problem=27)\n",
    "\n",
    "Find a quadratic formula that produces the maximum number of primes for consecutive values of n."
   ]
  },
  {
   "cell_type": "code",
   "execution_count": 30,
   "metadata": {
    "collapsed": false
   },
   "outputs": [
    {
     "data": {
      "text/plain": [
       "-59231"
      ]
     },
     "execution_count": 30,
     "metadata": {},
     "output_type": "execute_result"
    }
   ],
   "source": [
    "using Lazy\n",
    "\n",
    "ceiling = 999\n",
    "\n",
    "consecutive_primes(a, b) = length(takewhile(n -> isprime(n^2 + a*n + b), countfrom()))\n",
    "\n",
    "maximum([(consecutive_primes(a, b), a*b) for a in -ceiling:ceiling, b in primes(ceiling)])[2]"
   ]
  },
  {
   "cell_type": "markdown",
   "metadata": {},
   "source": [
    "### [Problem 28](https://projecteuler.net/problem=28)\n",
    "\n",
    "What is the sum of both diagonals in a 1001 by 1001 spiral?"
   ]
  },
  {
   "cell_type": "code",
   "execution_count": 29,
   "metadata": {
    "collapsed": false
   },
   "outputs": [
    {
     "data": {
      "text/plain": [
       "669171001"
      ]
     },
     "execution_count": 29,
     "metadata": {},
     "output_type": "execute_result"
    }
   ],
   "source": [
    "dimensions = 1001\n",
    "Σ, corner = 1, 1\n",
    "for spiral in 1:Int((dimensions - 1)/2), _ in 1:4\n",
    "    corner += spiral*2\n",
    "    Σ += corner\n",
    "end\n",
    "Σ"
   ]
  },
  {
   "cell_type": "markdown",
   "metadata": {},
   "source": [
    "### [Problem 29](https://projecteuler.net/problem=29)\n",
    "\n",
    "How many distinct terms are in the sequence generated by a^b for 2 ≤ a ≤ 100 and \n",
    "2 ≤ b ≤ 100?"
   ]
  },
  {
   "cell_type": "code",
   "execution_count": 28,
   "metadata": {
    "collapsed": false
   },
   "outputs": [
    {
     "data": {
      "text/plain": [
       "9183"
      ]
     },
     "execution_count": 28,
     "metadata": {},
     "output_type": "execute_result"
    }
   ],
   "source": [
    "length(Set([BigInt(a)^BigInt(b) for a in 2:100, b in 2:100]))"
   ]
  },
  {
   "cell_type": "markdown",
   "metadata": {},
   "source": [
    "### [Problem 30](https://projecteuler.net/problem=30)\n",
    "\n",
    "Find the sum of all the numbers that can be written as the sum of fifth powers of their digits."
   ]
  },
  {
   "cell_type": "code",
   "execution_count": 27,
   "metadata": {
    "collapsed": false
   },
   "outputs": [
    {
     "data": {
      "text/plain": [
       "443839"
      ]
     },
     "execution_count": 27,
     "metadata": {},
     "output_type": "execute_result"
    }
   ],
   "source": [
    "ceiling = 10^6\n",
    "\n",
    "sum(filter(n -> n == sum([digit^5 for digit in digits(n)]), 2:ceiling))"
   ]
  },
  {
   "cell_type": "markdown",
   "metadata": {},
   "source": [
    "### [Problem 31](https://projecteuler.net/problem=31)\n",
    "\n",
    "How many different ways can 2 pounds be made using any number of coins?"
   ]
  },
  {
   "cell_type": "code",
   "execution_count": 26,
   "metadata": {
    "collapsed": false
   },
   "outputs": [
    {
     "data": {
      "text/plain": [
       "73682"
      ]
     },
     "execution_count": 26,
     "metadata": {},
     "output_type": "execute_result"
    }
   ],
   "source": [
    "coins = [1, 2, 5, 10, 20, 50, 100, 200]\n",
    "ways = vcat([1], zeros(Int, 200))\n",
    "for coin in coins, i in 1:length(ways) - coin\n",
    "    ways[i + coin] += ways[i]\n",
    "end\n",
    "\n",
    "ways[end]"
   ]
  },
  {
   "cell_type": "markdown",
   "metadata": {},
   "source": [
    "### [Problem 32](https://projecteuler.net/problem=32)\n",
    "\n",
    "Find the sum of all numbers that can be written as pandigital products."
   ]
  },
  {
   "cell_type": "code",
   "execution_count": 25,
   "metadata": {
    "collapsed": false
   },
   "outputs": [
    {
     "data": {
      "text/plain": [
       "45228"
      ]
     },
     "execution_count": 25,
     "metadata": {},
     "output_type": "execute_result"
    }
   ],
   "source": [
    "using Iterators\n",
    "\n",
    "is_pandigital_identity(id) = sort(vcat(map(digits, [id[1], id[2], prod(id)])...)) == collect(1:9)\n",
    "\n",
    "sum(Set(map(prod, filter(is_pandigital_identity, product(1:100, 100:10000)))))"
   ]
  },
  {
   "cell_type": "markdown",
   "metadata": {},
   "source": [
    "### [Problem 33](https://projecteuler.net/problem=33)\n",
    "\n",
    "Discover all the fractions with an unorthodox cancelling method."
   ]
  },
  {
   "cell_type": "code",
   "execution_count": 24,
   "metadata": {
    "collapsed": false
   },
   "outputs": [
    {
     "data": {
      "text/plain": [
       "100"
      ]
     },
     "execution_count": 24,
     "metadata": {},
     "output_type": "execute_result"
    }
   ],
   "source": [
    "function is_curious(fraction)\n",
    "    num, den = fraction\n",
    "    return digits(num)[1] == digits(den)[2] && \n",
    "           digits(num)[2] / digits(den)[1] == num / den && \n",
    "           num != den\n",
    "end\n",
    "\n",
    "Int(prod(map(fraction -> fraction[2] / fraction[1], (filter(is_curious, product(10:99, 10:99))))))"
   ]
  },
  {
   "cell_type": "markdown",
   "metadata": {},
   "source": [
    "### [Problem 34](https://projecteuler.net/problem=34)\n",
    "\n",
    "Find the sum of all numbers which are equal to the sum of the factorial of their digits."
   ]
  },
  {
   "cell_type": "code",
   "execution_count": 18,
   "metadata": {
    "collapsed": false
   },
   "outputs": [
    {
     "data": {
      "text/plain": [
       "40730"
      ]
     },
     "execution_count": 18,
     "metadata": {},
     "output_type": "execute_result"
    }
   ],
   "source": [
    "ceiling = 10^5\n",
    "\n",
    "is_curious(n) = sum(map(factorial, digits(n))) == n\n",
    "\n",
    "sum(filter(is_curious, 3:ceiling))"
   ]
  },
  {
   "cell_type": "markdown",
   "metadata": {},
   "source": [
    "### [Problem 35](https://projecteuler.net/problem=35)\n",
    "\n",
    "How many circular primes are there below one million?"
   ]
  },
  {
   "cell_type": "code",
   "execution_count": 14,
   "metadata": {
    "collapsed": false
   },
   "outputs": [
    {
     "data": {
      "text/plain": [
       "55"
      ]
     },
     "execution_count": 14,
     "metadata": {},
     "output_type": "execute_result"
    }
   ],
   "source": [
    "using Digits\n",
    "\n",
    "rotations(s) = [combine(crop(s, i), crop(s, i - ndigits(s))) for i in 1:ndigits(s)]\n",
    "\n",
    "length(filter(s -> all(isprime, rotations(s)), primes(10^6)))"
   ]
  },
  {
   "cell_type": "markdown",
   "metadata": {},
   "source": [
    "### [Problem 36](https://projecteuler.net/problem=36)\n",
    "\n",
    "Find the sum of all numbers, less than one million, which are palindromic in base 10 and base 2."
   ]
  },
  {
   "cell_type": "code",
   "execution_count": 4,
   "metadata": {
    "collapsed": false
   },
   "outputs": [
    {
     "data": {
      "text/plain": [
       "872187"
      ]
     },
     "execution_count": 4,
     "metadata": {},
     "output_type": "execute_result"
    }
   ],
   "source": [
    "using Digits\n",
    "\n",
    "is_palindromic(n) = ispalindrome(n) && bin(n) == reverse(bin(n)) \n",
    "\n",
    "sum(filter(is_palindromic, 1:10^6))"
   ]
  },
  {
   "cell_type": "markdown",
   "metadata": {},
   "source": [
    "### [Problem 37](https://projecteuler.net/problem=37)\n",
    "\n",
    "Find the sum of the only eleven primes that are both truncatable from left to right and right to left."
   ]
  },
  {
   "cell_type": "code",
   "execution_count": 11,
   "metadata": {
    "collapsed": false
   },
   "outputs": [
    {
     "data": {
      "text/plain": [
       "748317"
      ]
     },
     "execution_count": 11,
     "metadata": {},
     "output_type": "execute_result"
    }
   ],
   "source": [
    "using Digits\n",
    "\n",
    "truncations(n) = [crop(n, i) for i in - ndigits(n)+1:ndigits(n)-1]\n",
    "\n",
    "l = Int[]\n",
    "for n in countfrom(10)\n",
    "    if all(isprime, truncations(n))\n",
    "        push!(l, n)\n",
    "    end\n",
    "    length(l) == 11 && break\n",
    "end\n",
    "\n",
    "sum(l)\n"
   ]
  },
  {
   "cell_type": "markdown",
   "metadata": {},
   "source": [
    "### [Problem 38](https://projecteuler.net/problem=38)\n",
    "\n",
    "What is the largest 1 to 9 pandigital 9-digit number that can be formed as the concatenated product of an integer with (1,2, ... , n)?"
   ]
  },
  {
   "cell_type": "code",
   "execution_count": 21,
   "metadata": {
    "collapsed": false
   },
   "outputs": [
    {
     "data": {
      "text/plain": [
       "932718654"
      ]
     },
     "execution_count": 21,
     "metadata": {},
     "output_type": "execute_result"
    }
   ],
   "source": [
    "using Digits, Iterators\n",
    "\n",
    "concatenated_product(pair) = combine([pair[1]*j for j in 1:pair[2]])\n",
    "is_pandigital(n) = isanagram(n, 123456789) \n",
    "\n",
    "maximum(filter(is_pandigital, map(concatenated_product, product(1:10^4, 2:10))))"
   ]
  },
  {
   "cell_type": "markdown",
   "metadata": {},
   "source": [
    "### [Problem 39](https://projecteuler.net/problem=39)\n",
    "\n",
    "Find the perimeter for which there is the highest number of right-angled triangles with integer side lengths."
   ]
  },
  {
   "cell_type": "code",
   "execution_count": 20,
   "metadata": {
    "collapsed": false
   },
   "outputs": [
    {
     "data": {
      "text/plain": [
       "840"
      ]
     },
     "execution_count": 20,
     "metadata": {},
     "output_type": "execute_result"
    }
   ],
   "source": [
    "using Distributions\n",
    "\n",
    "l = []\n",
    "for a in 1:500, b in 1:500\n",
    "    c = sqrt(a^2 + b^2)\n",
    "    if c == floor(c) && a+b+c <= 1000\n",
    "        push!(l, Int(a+b+c))\n",
    "    end\n",
    "end\n",
    "\n",
    "mode(l)"
   ]
  },
  {
   "cell_type": "markdown",
   "metadata": {},
   "source": [
    "### [Problem 40](https://projecteuler.net/problem=40)\n",
    "\n",
    "An irrational decimal fraction is created by concatenating the positive integers: If dn represents the nth digit, find the value of the following expression: d1 x d10 x d100 x d1000 x d10000 x d100000 x d1000000"
   ]
  },
  {
   "cell_type": "code",
   "execution_count": 9,
   "metadata": {
    "collapsed": false
   },
   "outputs": [
    {
     "data": {
      "text/plain": [
       "210"
      ]
     },
     "execution_count": 9,
     "metadata": {},
     "output_type": "execute_result"
    }
   ],
   "source": [
    "prod([parse(Int, join(1:10^6)[10^p]) for p in 1:6])"
   ]
  },
  {
   "cell_type": "markdown",
   "metadata": {},
   "source": [
    "### [Problem 41](https://projecteuler.net/problem=41)\n",
    "\n",
    "What is the largest n-digit pandigital prime that exists?"
   ]
  },
  {
   "cell_type": "code",
   "execution_count": 15,
   "metadata": {
    "collapsed": false
   },
   "outputs": [
    {
     "name": "stdout",
     "output_type": "stream",
     "text": [
      "true\n",
      "true\n",
      "false\n"
     ]
    }
   ],
   "source": [
    "# 9 and 8 digit pandigital numbers are divisible by 3 and thus cannot be prime\n",
    "println(sum(1:9) % 3 == 0)\n",
    "println(sum(1:8) % 3 == 0)\n",
    "println(sum(1:7) % 3 == 0)"
   ]
  },
  {
   "cell_type": "code",
   "execution_count": 12,
   "metadata": {
    "collapsed": false
   },
   "outputs": [
    {
     "name": "stdout",
     "output_type": "stream",
     "text": [
      "7652413"
     ]
    }
   ],
   "source": [
    "for n in reverse(primes(10^7))\n",
    "    if sort(digits(n)) == sort(collect(1:ndigits(n)))\n",
    "        print(n)\n",
    "        break\n",
    "    end\n",
    "end"
   ]
  },
  {
   "cell_type": "markdown",
   "metadata": {},
   "source": [
    "### [Problem 42](https://projecteuler.net/problem=42)\n",
    "\n",
    "Find the number of triangle words in a list."
   ]
  },
  {
   "cell_type": "code",
   "execution_count": 1,
   "metadata": {
    "collapsed": false
   },
   "outputs": [
    {
     "data": {
      "text/plain": [
       "162"
      ]
     },
     "execution_count": 1,
     "metadata": {},
     "output_type": "execute_result"
    }
   ],
   "source": [
    "words = [strip(w) for w in readdlm(\"files/p042_words.txt\", ',')]\n",
    "\n",
    "value(word) = sum([Int(c) - Int('A') + 1 for c in word])\n",
    "\n",
    "triangle_numbers = map(n -> div(n * (n + 1), 2), 1:30)\n",
    "\n",
    "length(filter(word -> value(word) in triangle_numbers, words))"
   ]
  },
  {
   "cell_type": "markdown",
   "metadata": {},
   "source": [
    "### [Problem 43](https://projecteuler.net/problem=43)\n",
    "\n",
    "Find the sum of all pandigital numbers with a sub-string divisibility property."
   ]
  },
  {
   "cell_type": "code",
   "execution_count": 11,
   "metadata": {
    "collapsed": false
   },
   "outputs": [
    {
     "data": {
      "text/plain": [
       "1683334890"
      ]
     },
     "execution_count": 11,
     "metadata": {},
     "output_type": "execute_result"
    }
   ],
   "source": [
    "using Digits\n",
    "\n",
    "prop(n) = n[1] != 0 && all(t -> combine(n[t[1]+1:t[1]+3]) % t[2] == 0, enumerate(primes(18)))\n",
    "\n",
    "sum(map(combine, filter(prop, permutations(0:9))))"
   ]
  },
  {
   "cell_type": "markdown",
   "metadata": {},
   "source": [
    "### [Problem 44](https://projecteuler.net/problem=44)\n",
    "\n",
    "Find the pair of pentagonal numbers for which their sum and difference are pentagonal and the difference is minimized."
   ]
  },
  {
   "cell_type": "code",
   "execution_count": 9,
   "metadata": {
    "collapsed": false
   },
   "outputs": [
    {
     "data": {
      "text/plain": [
       "5482660"
      ]
     },
     "execution_count": 9,
     "metadata": {},
     "output_type": "execute_result"
    }
   ],
   "source": [
    "ceiling = 5000\n",
    "\n",
    "penta = Set([n * (3n - 1) / 2 for n in 1:ceiling])\n",
    "\n",
    "l = []\n",
    "for a in penta, b in penta\n",
    "    if a - b in penta && a + b in penta\n",
    "        push!(l, Int(abs(a-b)))\n",
    "    end\n",
    "end\n",
    "minimum(l)"
   ]
  },
  {
   "cell_type": "markdown",
   "metadata": {},
   "source": [
    "### [Problem 45](https://projecteuler.net/problem=45)\n",
    "\n",
    "Find the next triangle number that is also pentagonal and hexagonal."
   ]
  },
  {
   "cell_type": "code",
   "execution_count": 10,
   "metadata": {
    "collapsed": false
   },
   "outputs": [
    {
     "data": {
      "text/plain": [
       "1533776805"
      ]
     },
     "execution_count": 10,
     "metadata": {},
     "output_type": "execute_result"
    }
   ],
   "source": [
    "ceiling = 10^5\n",
    "tri = [div(n * (n + 1), 2) for n in 286:10^5]\n",
    "penta = [div(n * (3n - 1), 2) for n in 166:10^5]\n",
    "hexa = [n * (2n - 1) for n in 144:10^5]\n",
    "\n",
    "intersect(tri, penta, hexa)[1]"
   ]
  },
  {
   "cell_type": "markdown",
   "metadata": {},
   "source": [
    "### [Problem 46](https://projecteuler.net/problem=46)\n",
    "\n",
    "What is the smallest odd composite that cannot be written as the sum of a prime and twice a square?"
   ]
  },
  {
   "cell_type": "code",
   "execution_count": 11,
   "metadata": {
    "collapsed": false
   },
   "outputs": [
    {
     "data": {
      "text/plain": [
       "5777"
      ]
     },
     "execution_count": 11,
     "metadata": {},
     "output_type": "execute_result"
    }
   ],
   "source": [
    "using Lazy\n",
    "\n",
    "ceiling = 10000\n",
    "goldbachs = [prime + 2 * n^2 for prime in primes(ceiling), n in 1:sqrt(ceiling)]\n",
    "\n",
    "dropwhile(n -> (isprime(n)) || (n in goldbachs), Lazy.range(3, ceiling, 2))[1]"
   ]
  },
  {
   "cell_type": "markdown",
   "metadata": {},
   "source": [
    "### [Problem 47](https://projecteuler.net/problem=47)\n",
    "\n",
    "Find the first four consecutive integers to have four distinct primes factors. What is the first of these numbers?"
   ]
  },
  {
   "cell_type": "code",
   "execution_count": 12,
   "metadata": {
    "collapsed": false
   },
   "outputs": [
    {
     "data": {
      "text/plain": [
       "134043"
      ]
     },
     "execution_count": 12,
     "metadata": {},
     "output_type": "execute_result"
    }
   ],
   "source": [
    "using Lazy\n",
    "\n",
    "dropwhile(n -> !(all([length(factor(n+j)) == 4 for j in 0:3])), Lazy.range())[1]"
   ]
  },
  {
   "cell_type": "markdown",
   "metadata": {},
   "source": [
    "### [Problem 48](https://projecteuler.net/problem=48)\n",
    "\n",
    "Find the last ten digits of the series, 1^1 + 2^2 + 3^3 + ... + 1000^1000"
   ]
  },
  {
   "cell_type": "code",
   "execution_count": 13,
   "metadata": {
    "collapsed": false
   },
   "outputs": [
    {
     "data": {
      "text/plain": [
       "9110846700"
      ]
     },
     "execution_count": 13,
     "metadata": {},
     "output_type": "execute_result"
    }
   ],
   "source": [
    "using Digits\n",
    "\n",
    "last_digits(n) = crop(n, max(ndigits(n) - 10, 0))\n",
    "\n",
    "last_digits(sum([last_digits(n^n) for n in BigInt(1):BigInt(1000)]))"
   ]
  },
  {
   "cell_type": "markdown",
   "metadata": {},
   "source": [
    "### [Problem 49](https://projecteuler.net/problem=49)\n",
    "\n",
    "Find the members of a 4-digits sequence."
   ]
  },
  {
   "cell_type": "code",
   "execution_count": 2,
   "metadata": {
    "collapsed": false
   },
   "outputs": [
    {
     "data": {
      "text/plain": [
       "296962999629"
      ]
     },
     "execution_count": 2,
     "metadata": {},
     "output_type": "execute_result"
    }
   ],
   "source": [
    "using Digits, Iterators\n",
    "\n",
    "is_unusual(seq) = all(isprime, seq) && all(pair -> isanagram(pair...), subsets(seq, 2))\n",
    "\n",
    "combine(filter(seq -> seq[1] != 1487, filter(is_unusual, map(a -> [a, a + 3330, a + 6660], 1000:3340)))[1])"
   ]
  },
  {
   "cell_type": "markdown",
   "metadata": {},
   "source": [
    "### [Problem 50](https://projecteuler.net/problem=50)\n",
    "\n",
    "Which prime, below one-million, can be written as the sum of the most consecutive primes?"
   ]
  },
  {
   "cell_type": "code",
   "execution_count": 15,
   "metadata": {
    "collapsed": false
   },
   "outputs": [
    {
     "data": {
      "text/plain": [
       "953"
      ]
     },
     "execution_count": 15,
     "metadata": {},
     "output_type": "execute_result"
    }
   ],
   "source": [
    "useprimes = primes(1000)\n",
    "n = length(useprimes)\n",
    "\n",
    "l = []\n",
    "for i in 1:n-1, j in i+1:n\n",
    "    Σ_primes, n_primes = sum(useprimes[i:j]), j - i\n",
    "    if Σ_primes in useprimes\n",
    "        push!(l, (n_primes, Σ_primes))\n",
    "    end\n",
    "end\n",
    "maximum(l)[2]"
   ]
  }
 ],
 "metadata": {
  "kernelspec": {
   "display_name": "Julia 0.4.5",
   "language": "julia",
   "name": "julia-0.4"
  },
  "language_info": {
   "file_extension": ".jl",
   "mimetype": "application/julia",
   "name": "julia",
   "version": "0.4.5"
  }
 },
 "nbformat": 4,
 "nbformat_minor": 0
}
