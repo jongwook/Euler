{
 "cells": [
  {
   "cell_type": "markdown",
   "metadata": {},
   "source": [
    "### General"
   ]
  },
  {
   "cell_type": "code",
   "execution_count": 129,
   "metadata": {
    "collapsed": false
   },
   "outputs": [
    {
     "data": {
      "text/plain": [
       "ifirst (generic function with 1 method)"
      ]
     },
     "execution_count": 129,
     "metadata": {},
     "output_type": "execute_result"
    }
   ],
   "source": [
    "using Digits, Iterators, Distributions, DataStructures, ContinuedFractions, NumberTheory\n",
    "import Digits.combine\n",
    "\n",
    "# combine([1,2,3]) -> 123\n",
    "function combine(l::Array{Int,1})\n",
    "    parse(BigInt, join(map(string, l)))\n",
    "end\n",
    "\n",
    "# Selects the first element from a list for which a condition is true\n",
    "function ifirst(cond, itr)\n",
    "    for elem in itr\n",
    "        cond(elem) && return elem\n",
    "    end\n",
    "end"
   ]
  },
  {
   "cell_type": "markdown",
   "metadata": {},
   "source": [
    "### [Problem 1](https://projecteuler.net/problem=1)\n",
    "\n",
    "Add all the natural numbers below one thousand that are multiples of 3 or 5."
   ]
  },
  {
   "cell_type": "code",
   "execution_count": 2,
   "metadata": {
    "collapsed": false
   },
   "outputs": [
    {
     "data": {
      "text/plain": [
       "233168"
      ]
     },
     "execution_count": 2,
     "metadata": {},
     "output_type": "execute_result"
    }
   ],
   "source": [
    "sum(filter(x -> x % 3 == 0 || x % 5 == 0, 1:999))"
   ]
  },
  {
   "cell_type": "markdown",
   "metadata": {},
   "source": [
    "### [Problem 2](https://projecteuler.net/problem=2)\n",
    "\n",
    "Find the sum of all the even-valued terms in the Fibonacci sequence which do not exceed four million."
   ]
  },
  {
   "cell_type": "code",
   "execution_count": 16,
   "metadata": {
    "collapsed": false
   },
   "outputs": [
    {
     "data": {
      "text/plain": [
       "4613732"
      ]
     },
     "execution_count": 16,
     "metadata": {},
     "output_type": "execute_result"
    }
   ],
   "source": [
    "l = Int[]\n",
    "a, b = 0, 1\n",
    "while a < 4*10^6\n",
    "    push!(l, a)\n",
    "    a, b = b, a + b\n",
    "end\n",
    "\n",
    "sum(filter(iseven, l))"
   ]
  },
  {
   "cell_type": "markdown",
   "metadata": {},
   "source": [
    "### [Problem 3](https://projecteuler.net/problem=3)\n",
    "\n",
    "Find the largest prime factor."
   ]
  },
  {
   "cell_type": "code",
   "execution_count": 4,
   "metadata": {
    "collapsed": false
   },
   "outputs": [
    {
     "data": {
      "text/plain": [
       "6857"
      ]
     },
     "execution_count": 4,
     "metadata": {},
     "output_type": "execute_result"
    }
   ],
   "source": [
    "maximum(keys(factor(600851475143)))"
   ]
  },
  {
   "cell_type": "markdown",
   "metadata": {},
   "source": [
    "### [Problem 4](https://projecteuler.net/problem=4)\n",
    "\n",
    "Find the largest palindrome made from the product of two 3-digit numbers."
   ]
  },
  {
   "cell_type": "code",
   "execution_count": 72,
   "metadata": {
    "collapsed": false
   },
   "outputs": [
    {
     "data": {
      "text/plain": [
       "906609"
      ]
     },
     "execution_count": 72,
     "metadata": {},
     "output_type": "execute_result"
    }
   ],
   "source": [
    "maximum(filter(ispalindrome, map(prod, combinations(100:999, 2))))"
   ]
  },
  {
   "cell_type": "markdown",
   "metadata": {},
   "source": [
    "### [Problem 5](https://projecteuler.net/problem=5)\n",
    "\n",
    "What is the smallest number divisible by each of the numbers 1 to 20?"
   ]
  },
  {
   "cell_type": "code",
   "execution_count": 6,
   "metadata": {
    "collapsed": false
   },
   "outputs": [
    {
     "data": {
      "text/plain": [
       "232792560"
      ]
     },
     "execution_count": 6,
     "metadata": {},
     "output_type": "execute_result"
    }
   ],
   "source": [
    "lcm(1:20)"
   ]
  },
  {
   "cell_type": "markdown",
   "metadata": {},
   "source": [
    "### [Problem 6](https://projecteuler.net/problem=6)\n",
    "\n",
    "Find the difference between the sum of the squares of the first one hundred natural numbers and the square of the sum."
   ]
  },
  {
   "cell_type": "code",
   "execution_count": 14,
   "metadata": {
    "collapsed": false
   },
   "outputs": [
    {
     "data": {
      "text/plain": [
       "25164150"
      ]
     },
     "execution_count": 14,
     "metadata": {},
     "output_type": "execute_result"
    }
   ],
   "source": [
    "sum(1:100)^2 - sum(square_numbers(100))"
   ]
  },
  {
   "cell_type": "markdown",
   "metadata": {},
   "source": [
    "### [Problem 7](https://projecteuler.net/problem=7)\n",
    "\n",
    "Find the 10001st prime."
   ]
  },
  {
   "cell_type": "code",
   "execution_count": 8,
   "metadata": {
    "collapsed": false
   },
   "outputs": [
    {
     "data": {
      "text/plain": [
       "104743"
      ]
     },
     "execution_count": 8,
     "metadata": {},
     "output_type": "execute_result"
    }
   ],
   "source": [
    "primes(10^6)[10001]"
   ]
  },
  {
   "cell_type": "markdown",
   "metadata": {},
   "source": [
    "### [Problem 8](https://projecteuler.net/problem=8)\n",
    "\n",
    "Discover the largest product of 13 consecutive digits in the 1000-digit number."
   ]
  },
  {
   "cell_type": "code",
   "execution_count": 17,
   "metadata": {
    "collapsed": false
   },
   "outputs": [
    {
     "data": {
      "text/plain": [
       "23514624000"
      ]
     },
     "execution_count": 17,
     "metadata": {},
     "output_type": "execute_result"
    }
   ],
   "source": [
    "n = [parse(Int, char) for char in readall(\"files/p008_number.txt\")]\n",
    "\n",
    "maximum(i -> prod(n[i:i+12]), 1:length(n)-12)"
   ]
  },
  {
   "cell_type": "markdown",
   "metadata": {},
   "source": [
    "### [Problem 9](https://projecteuler.net/problem=9)\n",
    "\n",
    "Find the only Pythagorean triplet, {a, b, c}, for which a + b + c = 1000."
   ]
  },
  {
   "cell_type": "code",
   "execution_count": 19,
   "metadata": {
    "collapsed": false
   },
   "outputs": [
    {
     "name": "stdout",
     "output_type": "stream",
     "text": [
      "31875000"
     ]
    }
   ],
   "source": [
    "n = 1000\n",
    "\n",
    "for (a,b) in combinations(1:n, 2)\n",
    "    c = n - a - b\n",
    "    if a^2 + b^2 == c^2\n",
    "        print(a * b * c)\n",
    "        break\n",
    "    end\n",
    "end"
   ]
  },
  {
   "cell_type": "markdown",
   "metadata": {},
   "source": [
    "## [Problem 10](https://projecteuler.net/problem=10)\n",
    "\n",
    "Calculate the sum of all the primes below two million."
   ]
  },
  {
   "cell_type": "code",
   "execution_count": 11,
   "metadata": {
    "collapsed": false
   },
   "outputs": [
    {
     "data": {
      "text/plain": [
       "142913828922"
      ]
     },
     "execution_count": 11,
     "metadata": {},
     "output_type": "execute_result"
    }
   ],
   "source": [
    "sum(primes(2*10^6))"
   ]
  },
  {
   "cell_type": "markdown",
   "metadata": {},
   "source": [
    "### [Problem 11](https://projecteuler.net/problem=11)\n",
    "\n",
    "What is the greatest product of four numbers on the same straight line in the 20 by 20 grid?"
   ]
  },
  {
   "cell_type": "code",
   "execution_count": 26,
   "metadata": {
    "collapsed": false
   },
   "outputs": [
    {
     "data": {
      "text/plain": [
       "70600674"
      ]
     },
     "execution_count": 26,
     "metadata": {},
     "output_type": "execute_result"
    }
   ],
   "source": [
    "a = readdlm(\"files/p011_grid.txt\", Int)\n",
    "n = size(a, 1)\n",
    "\n",
    "tile(i, j) = 1 <= i <= n && 1 <= j <= n ? a[i, j] : 0\n",
    "line_value(start, direction) = prod(k -> tile(start[1] + direction[1]*k, start[2] + direction[2]*k), 0:3)\n",
    "\n",
    "starts = product(1:n, 1:n)\n",
    "directions = [(-1,-1), (-1,1), (1,-1), (1,1)]\n",
    "\n",
    "Int(maximum(t -> line_value(t...), product(starts, directions)))"
   ]
  },
  {
   "cell_type": "markdown",
   "metadata": {
    "collapsed": true
   },
   "source": [
    "### [Problem 12](https://projecteuler.net/problem=12)\n",
    "\n",
    "What is the value of the first triangle number to have over five hundred divisors?"
   ]
  },
  {
   "cell_type": "code",
   "execution_count": 15,
   "metadata": {
    "collapsed": false
   },
   "outputs": [
    {
     "data": {
      "text/plain": [
       "76576500"
      ]
     },
     "execution_count": 15,
     "metadata": {},
     "output_type": "execute_result"
    }
   ],
   "source": [
    "ifirst(n -> divisor_count(n) > 500, triangular_numbers(10^5))"
   ]
  },
  {
   "cell_type": "markdown",
   "metadata": {
    "collapsed": true
   },
   "source": [
    "### [Problem 13](https://projecteuler.net/problem=13)\n",
    "\n",
    "Find the first ten digits of the sum of one-hundred 50-digit numbers."
   ]
  },
  {
   "cell_type": "code",
   "execution_count": 78,
   "metadata": {
    "collapsed": false
   },
   "outputs": [
    {
     "data": {
      "text/plain": [
       "5537376230"
      ]
     },
     "execution_count": 78,
     "metadata": {},
     "output_type": "execute_result"
    }
   ],
   "source": [
    "a = readdlm(\"files/p013_numbers.txt\", BigInt)\n",
    "\n",
    "Digits.select(sum(a), 1:10)"
   ]
  },
  {
   "cell_type": "markdown",
   "metadata": {},
   "source": [
    "### [Problem 14](https://projecteuler.net/problem=14)\n",
    "\n",
    "Find the longest sequence using a starting number under one million."
   ]
  },
  {
   "cell_type": "code",
   "execution_count": 79,
   "metadata": {
    "collapsed": false
   },
   "outputs": [
    {
     "data": {
      "text/plain": [
       "837799"
      ]
     },
     "execution_count": 79,
     "metadata": {},
     "output_type": "execute_result"
    }
   ],
   "source": [
    "function collatz(n)\n",
    "    n == 1 && return 1\n",
    "    iseven(n) && return collatz(div(n,2)) + 1\n",
    "    isodd(n) && return collatz(3*n + 1) + 1\n",
    "end\n",
    "\n",
    "maximum(n -> (collatz(n), n), 1:10^6)[2]"
   ]
  },
  {
   "cell_type": "markdown",
   "metadata": {},
   "source": [
    "### [Problem 15](https://projecteuler.net/problem=15)\n",
    "\n",
    "Starting in the top left corner in a 20 by 20 grid, how many routes are there to the bottom right corner?"
   ]
  },
  {
   "cell_type": "code",
   "execution_count": 16,
   "metadata": {
    "collapsed": false
   },
   "outputs": [
    {
     "data": {
      "text/plain": [
       "137846528820"
      ]
     },
     "execution_count": 16,
     "metadata": {},
     "output_type": "execute_result"
    }
   ],
   "source": [
    "binomial(40, 20)"
   ]
  },
  {
   "cell_type": "markdown",
   "metadata": {},
   "source": [
    "### [Problem 16](https://projecteuler.net/problem=16)\n",
    "\n",
    "What is the sum of the digits of the number 21000?"
   ]
  },
  {
   "cell_type": "code",
   "execution_count": 17,
   "metadata": {
    "collapsed": false
   },
   "outputs": [
    {
     "data": {
      "text/plain": [
       "1366"
      ]
     },
     "execution_count": 17,
     "metadata": {},
     "output_type": "execute_result"
    }
   ],
   "source": [
    "sum(digits(big(2)^1000))"
   ]
  },
  {
   "cell_type": "markdown",
   "metadata": {},
   "source": [
    "### [Problem 17](https://projecteuler.net/problem=17)\n",
    "\n",
    "How many letters would be needed to write all the numbers in words from 1 to 1000?"
   ]
  },
  {
   "cell_type": "code",
   "execution_count": 27,
   "metadata": {
    "collapsed": false
   },
   "outputs": [
    {
     "data": {
      "text/plain": [
       "21124"
      ]
     },
     "execution_count": 27,
     "metadata": {},
     "output_type": "execute_result"
    }
   ],
   "source": [
    "ones = [\"one\", \"two\", \"three\", \"four\", \"five\", \"six\", \"seven\", \"eight\", \"nine\", \"ten\", \"eleven\", \n",
    "    \"twelve\", \"thirteen\", \"fourteen\", \"fifteen\", \"sixteen\", \"seventeen\", \"eighteen\", \"nineteen\"]\n",
    "tens = [\"ten\", \"twenty\", \"thirty\", \"forty\", \"fifty\", \"sixty\", \"seventy\", \"eighty\", \"ninety\"]\n",
    "\n",
    "function english(n)\n",
    "    n == 1000 && return \"onethousand\" * english(n % 1000)\n",
    "    n >= 100 && return ones[fld(n, 100)] * \"hundred\" * (n % 100 > 0 ? \"and\" : \"\") * english(n % 100)\n",
    "    n >= 20 && return tens[fld(n, 10)] * english(n % 10)\n",
    "    n > 0 && return ones[n]\n",
    "    \n",
    "    return \"\"\n",
    "end\n",
    "\n",
    "length(prod(english, 1:1000))"
   ]
  },
  {
   "cell_type": "markdown",
   "metadata": {},
   "source": [
    "### [Problem 18](https://projecteuler.net/problem=18)\n",
    "\n",
    "Find the maximum sum traveling from the top of the triangle to the base."
   ]
  },
  {
   "cell_type": "code",
   "execution_count": 31,
   "metadata": {
    "collapsed": false
   },
   "outputs": [
    {
     "data": {
      "text/plain": [
       "1074"
      ]
     },
     "execution_count": 31,
     "metadata": {},
     "output_type": "execute_result"
    }
   ],
   "source": [
    "a = readdlm(\"files/p018_triangle.txt\")\n",
    "\n",
    "for row in reverse(1:size(a, 2)-1), col in 1:row\n",
    "    a[row, col] += max(a[row+1, col], a[row+1, col+1])\n",
    "end\n",
    "\n",
    "a[1, 1]"
   ]
  },
  {
   "cell_type": "markdown",
   "metadata": {},
   "source": [
    "### [Problem 19](https://projecteuler.net/problem=19)\n",
    "\n",
    "How many Sundays fell on the first of the month during the twentieth century?"
   ]
  },
  {
   "cell_type": "code",
   "execution_count": 83,
   "metadata": {
    "collapsed": false
   },
   "outputs": [
    {
     "data": {
      "text/plain": [
       "171"
      ]
     },
     "execution_count": 83,
     "metadata": {},
     "output_type": "execute_result"
    }
   ],
   "source": [
    "count(date -> Dates.day(date) == 1 && Dates.dayofweek(date) == 7, Date(1901, 1, 1):Date(2000, 12, 31))"
   ]
  },
  {
   "cell_type": "markdown",
   "metadata": {},
   "source": [
    "### [Problem 20](https://projecteuler.net/problem=20)\n",
    "\n",
    "Find the sum of digits in 100!"
   ]
  },
  {
   "cell_type": "code",
   "execution_count": 21,
   "metadata": {
    "collapsed": false
   },
   "outputs": [
    {
     "data": {
      "text/plain": [
       "648"
      ]
     },
     "execution_count": 21,
     "metadata": {},
     "output_type": "execute_result"
    }
   ],
   "source": [
    "sum(digits(factorial(big(100))))"
   ]
  },
  {
   "cell_type": "markdown",
   "metadata": {},
   "source": [
    "### [Problem 21](https://projecteuler.net/problem=21)\n",
    "\n",
    "Evaluate the sum of all amicable pairs under 10000."
   ]
  },
  {
   "cell_type": "code",
   "execution_count": 7,
   "metadata": {
    "collapsed": false
   },
   "outputs": [
    {
     "data": {
      "text/plain": [
       "31626"
      ]
     },
     "execution_count": 7,
     "metadata": {},
     "output_type": "execute_result"
    }
   ],
   "source": [
    "function condition(a)\n",
    "    b = sum(proper_divisors(a))\n",
    "    return a != b && sum(proper_divisors(b)) == a\n",
    "end\n",
    "\n",
    "sum(filter(condition, 2:10^4))"
   ]
  },
  {
   "cell_type": "markdown",
   "metadata": {},
   "source": [
    "### [Problem 22](https://projecteuler.net/problem=22)\n",
    "\n",
    "What is the total of all the name scores in the file of first names?"
   ]
  },
  {
   "cell_type": "code",
   "execution_count": 61,
   "metadata": {
    "collapsed": false
   },
   "outputs": [
    {
     "data": {
      "text/plain": [
       "871198282"
      ]
     },
     "execution_count": 61,
     "metadata": {},
     "output_type": "execute_result"
    }
   ],
   "source": [
    "names = sort(vec(readdlm(\"files/p022_names.txt\", ',', ASCIIString)))\n",
    "\n",
    "d = {letter => value for (value, letter) in enumerate('A':'Z')}\n",
    "score(name) = sum([d[char] for char in name])\n",
    "\n",
    "sum([score(name) * i for (i, name) in enumerate(names)])"
   ]
  },
  {
   "cell_type": "markdown",
   "metadata": {},
   "source": [
    "### [Problem 23](https://projecteuler.net/problem=23)\n",
    "\n",
    "Find the sum of all the positive integers which cannot be written as the sum of two abundant numbers."
   ]
  },
  {
   "cell_type": "code",
   "execution_count": 31,
   "metadata": {
    "collapsed": false
   },
   "outputs": [
    {
     "data": {
      "text/plain": [
       "4179871"
      ]
     },
     "execution_count": 31,
     "metadata": {},
     "output_type": "execute_result"
    }
   ],
   "source": [
    "ceiling = 28123\n",
    "\n",
    "abundant_numbers = filter(n -> sum(proper_divisors(n)) > n, 1:ceiling)\n",
    "sum_of_two_abundant_numbers = Set([i+j for i in abundant_numbers, j in abundant_numbers])\n",
    "sum(setdiff(Set(1:ceiling), sum_of_two_abundant_numbers))"
   ]
  },
  {
   "cell_type": "markdown",
   "metadata": {},
   "source": [
    "### [Problem 24](https://projecteuler.net/problem=24)\n",
    "\n",
    "What is the millionth lexicographic permutation of the digits 0, 1, 2, 3, 4, 5, 6, 7, 8 and 9?"
   ]
  },
  {
   "cell_type": "code",
   "execution_count": 15,
   "metadata": {
    "collapsed": false
   },
   "outputs": [
    {
     "data": {
      "text/plain": [
       "2783915460"
      ]
     },
     "execution_count": 15,
     "metadata": {},
     "output_type": "execute_result"
    }
   ],
   "source": [
    "combine(nthperm(collect(0:9), 10^6))"
   ]
  },
  {
   "cell_type": "markdown",
   "metadata": {},
   "source": [
    "### [Problem 25](https://projecteuler.net/problem=25)\n",
    "\n",
    "What is the first term in the Fibonacci sequence to contain 1000 digits?"
   ]
  },
  {
   "cell_type": "code",
   "execution_count": 35,
   "metadata": {
    "collapsed": false
   },
   "outputs": [
    {
     "data": {
      "text/plain": [
       "4782"
      ]
     },
     "execution_count": 35,
     "metadata": {},
     "output_type": "execute_result"
    }
   ],
   "source": [
    "a, b, i, roundoff = big(0), big(1), 0, 0\n",
    "\n",
    "while log10(a) + 1 + roundoff < 1000\n",
    "    a, b, i = b, a + b, i + 1\n",
    "    if a > 10^9\n",
    "        a, b = fld(a, 10), fld(b, 10)\n",
    "        roundoff += 1\n",
    "    end\n",
    "end\n",
    "i"
   ]
  },
  {
   "cell_type": "markdown",
   "metadata": {},
   "source": [
    "### [Problem 26](https://projecteuler.net/problem=26)\n",
    "\n",
    "Find the value of d < 1000 for which 1/d contains the longest recurring cycle."
   ]
  },
  {
   "cell_type": "code",
   "execution_count": 3,
   "metadata": {
    "collapsed": false
   },
   "outputs": [
    {
     "data": {
      "text/plain": [
       "983"
      ]
     },
     "execution_count": 3,
     "metadata": {},
     "output_type": "execute_result"
    }
   ],
   "source": [
    "function cycle_length(d)\n",
    "    d = big(d)\n",
    "    for k in 1:d\n",
    "        if 10^k % d == 1\n",
    "            return k\n",
    "        end\n",
    "    end\n",
    "    return 0\n",
    "end\n",
    "\n",
    "indmax(map(cycle_length, 1:999))"
   ]
  },
  {
   "cell_type": "markdown",
   "metadata": {},
   "source": [
    "### [Problem 27](https://projecteuler.net/problem=27)\n",
    "\n",
    "Find a quadratic formula with terms below 1000 that produces the maximum number of primes for consecutive values of n."
   ]
  },
  {
   "cell_type": "code",
   "execution_count": 38,
   "metadata": {
    "collapsed": false
   },
   "outputs": [
    {
     "data": {
      "text/plain": [
       "-59231"
      ]
     },
     "execution_count": 38,
     "metadata": {},
     "output_type": "execute_result"
    }
   ],
   "source": [
    "ceiling = 999\n",
    "\n",
    "consecutive_primes(a, b) = ifirst(n -> !isprime(n^2 + a*n + b), countfrom())\n",
    "\n",
    "maximum([(consecutive_primes(a, b), a*b) for a in -ceiling:ceiling, b in primes(ceiling)])[2]"
   ]
  },
  {
   "cell_type": "markdown",
   "metadata": {},
   "source": [
    "### [Problem 28](https://projecteuler.net/problem=28)\n",
    "\n",
    "What is the sum of both diagonals in a 1001 by 1001 spiral?"
   ]
  },
  {
   "cell_type": "code",
   "execution_count": 37,
   "metadata": {
    "collapsed": false
   },
   "outputs": [
    {
     "data": {
      "text/plain": [
       "669171001"
      ]
     },
     "execution_count": 37,
     "metadata": {},
     "output_type": "execute_result"
    }
   ],
   "source": [
    "Σ = diagonal_number = 1\n",
    "for sidelength in 3:2:1001, corner in 1:4\n",
    "    diagonal_number += sidelength - 1\n",
    "    Σ += diagonal_number\n",
    "end\n",
    "Σ"
   ]
  },
  {
   "cell_type": "markdown",
   "metadata": {},
   "source": [
    "### [Problem 29](https://projecteuler.net/problem=29)\n",
    "\n",
    "How many distinct terms are in the sequence generated by a^b for 2 ≤ a ≤ 100 and \n",
    "2 ≤ b ≤ 100?"
   ]
  },
  {
   "cell_type": "code",
   "execution_count": 4,
   "metadata": {
    "collapsed": false
   },
   "outputs": [
    {
     "data": {
      "text/plain": [
       "9183"
      ]
     },
     "execution_count": 4,
     "metadata": {},
     "output_type": "execute_result"
    }
   ],
   "source": [
    "length(Set([a^b for a in 2:big(100), b in 2:100]))"
   ]
  },
  {
   "cell_type": "markdown",
   "metadata": {},
   "source": [
    "### [Problem 30](https://projecteuler.net/problem=30)\n",
    "\n",
    "Find the sum of all the numbers that can be written as the sum of fifth powers of their digits."
   ]
  },
  {
   "cell_type": "code",
   "execution_count": 31,
   "metadata": {
    "collapsed": false
   },
   "outputs": [
    {
     "data": {
      "text/plain": [
       "443839"
      ]
     },
     "execution_count": 31,
     "metadata": {},
     "output_type": "execute_result"
    }
   ],
   "source": [
    "ceiling = 10^6\n",
    "\n",
    "sum(filter(n -> n == sum([digit^5 for digit in digits(n)]), 2:ceiling))"
   ]
  },
  {
   "cell_type": "markdown",
   "metadata": {},
   "source": [
    "### [Problem 31](https://projecteuler.net/problem=31)\n",
    "\n",
    "How many different ways can 2 pounds be made using any number of coins?"
   ]
  },
  {
   "cell_type": "code",
   "execution_count": 32,
   "metadata": {
    "collapsed": false
   },
   "outputs": [
    {
     "data": {
      "text/plain": [
       "73682"
      ]
     },
     "execution_count": 32,
     "metadata": {},
     "output_type": "execute_result"
    }
   ],
   "source": [
    "coins = [1, 2, 5, 10, 20, 50, 100, 200]\n",
    "ways = vcat([1], zeros(Int, 200))\n",
    "for coin in coins, i in 1:length(ways) - coin\n",
    "    ways[i + coin] += ways[i]\n",
    "end\n",
    "\n",
    "ways[end]"
   ]
  },
  {
   "cell_type": "markdown",
   "metadata": {},
   "source": [
    "### [Problem 32](https://projecteuler.net/problem=32)\n",
    "\n",
    "Find the sum of all numbers that can be written as pandigital products."
   ]
  },
  {
   "cell_type": "code",
   "execution_count": 11,
   "metadata": {
    "collapsed": false
   },
   "outputs": [
    {
     "data": {
      "text/plain": [
       "45228"
      ]
     },
     "execution_count": 11,
     "metadata": {},
     "output_type": "execute_result"
    }
   ],
   "source": [
    "is_pandigital_identity(id) = sort(vcat(map(digits, [id[1], id[2], prod(id)])...)) == collect(1:9)\n",
    "\n",
    "sum(Set(map(prod, filter(is_pandigital_identity, product(1:100, 100:10000)))))"
   ]
  },
  {
   "cell_type": "markdown",
   "metadata": {},
   "source": [
    "### [Problem 33](https://projecteuler.net/problem=33)\n",
    "\n",
    "Discover all the fractions with an curious cancelling method."
   ]
  },
  {
   "cell_type": "code",
   "execution_count": 23,
   "metadata": {
    "collapsed": false
   },
   "outputs": [
    {
     "data": {
      "text/plain": [
       "100"
      ]
     },
     "execution_count": 23,
     "metadata": {},
     "output_type": "execute_result"
    }
   ],
   "source": [
    "function is_curious(fraction)\n",
    "    num, den = fraction\n",
    "    return digits(num)[1] == digits(den)[2] && \n",
    "           digits(num)[2] / digits(den)[1] == num / den && \n",
    "           num != den\n",
    "end\n",
    "\n",
    "Int(prod(fraction -> fraction[2] // fraction[1], (filter(is_curious, product(10:99, 10:99)))))"
   ]
  },
  {
   "cell_type": "markdown",
   "metadata": {},
   "source": [
    "### [Problem 34](https://projecteuler.net/problem=34)\n",
    "\n",
    "Find the sum of all numbers which are equal to the sum of the factorial of their digits."
   ]
  },
  {
   "cell_type": "code",
   "execution_count": 66,
   "metadata": {
    "collapsed": false
   },
   "outputs": [
    {
     "data": {
      "text/plain": [
       "40730"
      ]
     },
     "execution_count": 66,
     "metadata": {},
     "output_type": "execute_result"
    }
   ],
   "source": [
    "ceiling = 10^5\n",
    "\n",
    "equal_to_factorial_of_digits(n) = sum(map(factorial, digits(n))) == n\n",
    "\n",
    "sum(filter(equal_to_factorial_of_digits, 3:ceiling))"
   ]
  },
  {
   "cell_type": "markdown",
   "metadata": {},
   "source": [
    "### [Problem 35](https://projecteuler.net/problem=35)\n",
    "\n",
    "How many circular primes are there below one million?"
   ]
  },
  {
   "cell_type": "code",
   "execution_count": 16,
   "metadata": {
    "collapsed": false
   },
   "outputs": [
    {
     "data": {
      "text/plain": [
       "55"
      ]
     },
     "execution_count": 16,
     "metadata": {},
     "output_type": "execute_result"
    }
   ],
   "source": [
    "rotations(n) = map(i->combine(crop(n, i), crop(n, i - ndigits(n))), 1:ndigits(n))\n",
    "\n",
    "count(n -> all(isprime, rotations(n)), primes(10^6))"
   ]
  },
  {
   "cell_type": "markdown",
   "metadata": {},
   "source": [
    "### [Problem 36](https://projecteuler.net/problem=36)\n",
    "\n",
    "Find the sum of all numbers, less than one million, which are palindromic in base 10 and base 2."
   ]
  },
  {
   "cell_type": "code",
   "execution_count": 11,
   "metadata": {
    "collapsed": false
   },
   "outputs": [
    {
     "data": {
      "text/plain": [
       "872187"
      ]
     },
     "execution_count": 11,
     "metadata": {},
     "output_type": "execute_result"
    }
   ],
   "source": [
    "condition(n) = ispalindrome(n) && bin(n) == reverse(bin(n)) \n",
    "\n",
    "sum(filter(condition, 1:10^6))"
   ]
  },
  {
   "cell_type": "markdown",
   "metadata": {},
   "source": [
    "### [Problem 37](https://projecteuler.net/problem=37)\n",
    "\n",
    "Find the sum of the only eleven primes that are both truncatable from left to right and right to left."
   ]
  },
  {
   "cell_type": "code",
   "execution_count": 10,
   "metadata": {
    "collapsed": false
   },
   "outputs": [
    {
     "data": {
      "text/plain": [
       "748317"
      ]
     },
     "execution_count": 10,
     "metadata": {},
     "output_type": "execute_result"
    }
   ],
   "source": [
    "truncations(n) = [crop(n, i) for i in - ndigits(n)+1:ndigits(n)-1]\n",
    "\n",
    "l = []\n",
    "for n in countfrom(10)\n",
    "    if all(isprime, truncations(n))\n",
    "        push!(l, n)\n",
    "    end\n",
    "    length(l) == 11 && break\n",
    "end\n",
    "\n",
    "sum(l)"
   ]
  },
  {
   "cell_type": "markdown",
   "metadata": {},
   "source": [
    "### [Problem 38](https://projecteuler.net/problem=38)\n",
    "\n",
    "What is the largest 1 to 9 pandigital 9-digit number that can be formed as the concatenated product of an integer with (1,2, ... , n)?"
   ]
  },
  {
   "cell_type": "code",
   "execution_count": 17,
   "metadata": {
    "collapsed": false
   },
   "outputs": [
    {
     "data": {
      "text/plain": [
       "932718654"
      ]
     },
     "execution_count": 17,
     "metadata": {},
     "output_type": "execute_result"
    }
   ],
   "source": [
    "concatenated_product(pair) = combine([pair[1]*j for j in 1:pair[2]])\n",
    "is_pandigital(n) = isanagram(n, 123456789) \n",
    "\n",
    "maximum(filter(is_pandigital, map(concatenated_product, product(1:10^4, 2:10))))"
   ]
  },
  {
   "cell_type": "markdown",
   "metadata": {},
   "source": [
    "### [Problem 39](https://projecteuler.net/problem=39)\n",
    "\n",
    "Find the perimeter <= 1000 for which there is the highest number of right-angled triangles with integer side lengths."
   ]
  },
  {
   "cell_type": "code",
   "execution_count": 49,
   "metadata": {
    "collapsed": false
   },
   "outputs": [
    {
     "data": {
      "text/plain": [
       "840"
      ]
     },
     "execution_count": 49,
     "metadata": {},
     "output_type": "execute_result"
    }
   ],
   "source": [
    "perimeter(t) = t[1] + t[2] + sqrt(t[1]^2 + t[2]^2)\n",
    "\n",
    "condition(perimeter) = perimeter == round(perimeter) && perimeter <= 1000\n",
    "\n",
    "mode(map(Int, filter(condition, map(perimeter, combinations(1:500, 2)))))"
   ]
  },
  {
   "cell_type": "markdown",
   "metadata": {},
   "source": [
    "### [Problem 40](https://projecteuler.net/problem=40)\n",
    "\n",
    "An irrational decimal fraction is created by concatenating the positive integers: If dn represents the nth digit, find the value of the following expression: d1 x d10 x d100 x d1000 x d10000 x d100000 x d1000000"
   ]
  },
  {
   "cell_type": "code",
   "execution_count": 9,
   "metadata": {
    "collapsed": false
   },
   "outputs": [
    {
     "data": {
      "text/plain": [
       "210"
      ]
     },
     "execution_count": 9,
     "metadata": {},
     "output_type": "execute_result"
    }
   ],
   "source": [
    "prod(d -> parse(Int, join(1:10^6)[10^d]), 1:6)"
   ]
  },
  {
   "cell_type": "markdown",
   "metadata": {},
   "source": [
    "### [Problem 41](https://projecteuler.net/problem=41)\n",
    "\n",
    "What is the largest n-digit pandigital prime that exists?"
   ]
  },
  {
   "cell_type": "code",
   "execution_count": 53,
   "metadata": {
    "collapsed": false
   },
   "outputs": [
    {
     "name": "stdout",
     "output_type": "stream",
     "text": [
      "true\n",
      "true\n",
      "false\n"
     ]
    }
   ],
   "source": [
    "# 9 and 8 digit pandigital numbers are divisible by 3 and thus cannot be prime\n",
    "println(sum(1:9) % 3 == 0)\n",
    "println(sum(1:8) % 3 == 0)\n",
    "println(sum(1:7) % 3 == 0)"
   ]
  },
  {
   "cell_type": "code",
   "execution_count": 16,
   "metadata": {
    "collapsed": false
   },
   "outputs": [
    {
     "data": {
      "text/plain": [
       "7652413"
      ]
     },
     "execution_count": 16,
     "metadata": {},
     "output_type": "execute_result"
    }
   ],
   "source": [
    "is_pandigital(n) = sort(digits(n)) == sort(collect(1:ndigits(n)))\n",
    "\n",
    "ifirst(is_pandigital, reverse(primes(10^7)))"
   ]
  },
  {
   "cell_type": "markdown",
   "metadata": {},
   "source": [
    "### [Problem 42](https://projecteuler.net/problem=42)\n",
    "\n",
    "Find the number of triangle words in a list."
   ]
  },
  {
   "cell_type": "code",
   "execution_count": 10,
   "metadata": {
    "collapsed": false
   },
   "outputs": [
    {
     "data": {
      "text/plain": [
       "162"
      ]
     },
     "execution_count": 10,
     "metadata": {},
     "output_type": "execute_result"
    }
   ],
   "source": [
    "words = [strip(w) for w in readdlm(\"files/p042_words.txt\", ',')]\n",
    "\n",
    "value(word) = sum([Int(c) - Int('A') + 1 for c in word])\n",
    "\n",
    "count(word -> value(word) in Set(triangular_numbers(28)), words)"
   ]
  },
  {
   "cell_type": "markdown",
   "metadata": {},
   "source": [
    "### [Problem 43](https://projecteuler.net/problem=43)\n",
    "\n",
    "Find the sum of all pandigital numbers with a sub-string divisibility property."
   ]
  },
  {
   "cell_type": "code",
   "execution_count": 18,
   "metadata": {
    "collapsed": false
   },
   "outputs": [
    {
     "data": {
      "text/plain": [
       "16695334890"
      ]
     },
     "execution_count": 18,
     "metadata": {},
     "output_type": "execute_result"
    }
   ],
   "source": [
    "prop(n) = n[1] != 0 && all(t -> combine(n[t[1]+1:t[1]+3]) % t[2] == 0, enumerate(primes(18)))\n",
    "\n",
    "sum(combine, filter(prop, permutations(0:9)))"
   ]
  },
  {
   "cell_type": "markdown",
   "metadata": {},
   "source": [
    "### [Problem 44](https://projecteuler.net/problem=44)\n",
    "\n",
    "Find the pair of pentagonal numbers for which their sum and difference are pentagonal and the difference is minimized."
   ]
  },
  {
   "cell_type": "code",
   "execution_count": 13,
   "metadata": {
    "collapsed": false
   },
   "outputs": [
    {
     "data": {
      "text/plain": [
       "5482660"
      ]
     },
     "execution_count": 13,
     "metadata": {},
     "output_type": "execute_result"
    }
   ],
   "source": [
    "pentas = pentagonal_numbers(4000)\n",
    "pentaset = Set(pentas)\n",
    "\n",
    "sum_and_diff_are_pentagonal(pair) = pair[1] + pair[2] in pentaset && pair[2] - pair[1] in pentaset\n",
    "\n",
    "pair = ifirst(sum_and_diff_are_pentagonal, combinations(pentas, 2))\n",
    "pair[2] - pair[1]"
   ]
  },
  {
   "cell_type": "markdown",
   "metadata": {},
   "source": [
    "### [Problem 45](https://projecteuler.net/problem=45)\n",
    "\n",
    "Find the next triangle number that is also pentagonal and hexagonal."
   ]
  },
  {
   "cell_type": "code",
   "execution_count": 10,
   "metadata": {
    "collapsed": false
   },
   "outputs": [
    {
     "data": {
      "text/plain": [
       "1533776805"
      ]
     },
     "execution_count": 10,
     "metadata": {},
     "output_type": "execute_result"
    }
   ],
   "source": [
    "ceiling = 10^5\n",
    "first(intersect(\n",
    "    Set(map(triangular_number, 286:ceiling)),\n",
    "    Set(map(pentagonal_number, 166:ceiling)),\n",
    "    Set(map(hexagonal_number, 144:ceiling))\n",
    "))\n"
   ]
  },
  {
   "cell_type": "markdown",
   "metadata": {},
   "source": [
    "### [Problem 46](https://projecteuler.net/problem=46)\n",
    "\n",
    "What is the smallest odd composite that is not a goldbach number (cann be written as the sum of a prime and twice a square)?"
   ]
  },
  {
   "cell_type": "code",
   "execution_count": 10,
   "metadata": {
    "collapsed": false
   },
   "outputs": [
    {
     "data": {
      "text/plain": [
       "5777"
      ]
     },
     "execution_count": 10,
     "metadata": {},
     "output_type": "execute_result"
    }
   ],
   "source": [
    "goldbachs = [prime + 2 * square for prime in primes(10000), square in square_numbers(100)]\n",
    "\n",
    "ifirst(n -> !(isprime(n) || n in goldbachs), 3:2:ceiling)"
   ]
  },
  {
   "cell_type": "markdown",
   "metadata": {},
   "source": [
    "### [Problem 47](https://projecteuler.net/problem=47)\n",
    "\n",
    "Find the first four consecutive integers to have four distinct primes factors. What is the first of these numbers?"
   ]
  },
  {
   "cell_type": "code",
   "execution_count": 5,
   "metadata": {
    "collapsed": false
   },
   "outputs": [
    {
     "data": {
      "text/plain": [
       "134043"
      ]
     },
     "execution_count": 5,
     "metadata": {},
     "output_type": "execute_result"
    }
   ],
   "source": [
    "four_distinct(n) = all(j -> length(factor(n+j)) == 4, 0:3)\n",
    "\n",
    "ifirst(four_distinct, countfrom())"
   ]
  },
  {
   "cell_type": "markdown",
   "metadata": {},
   "source": [
    "### [Problem 48](https://projecteuler.net/problem=48)\n",
    "\n",
    "Find the last ten digits of the series, 1^1 + 2^2 + 3^3 + ... + 1000^1000"
   ]
  },
  {
   "cell_type": "code",
   "execution_count": 8,
   "metadata": {
    "collapsed": false
   },
   "outputs": [
    {
     "data": {
      "text/plain": [
       "9110846700"
      ]
     },
     "execution_count": 8,
     "metadata": {},
     "output_type": "execute_result"
    }
   ],
   "source": [
    "last_digits(n) = crop(n, max(ndigits(n) - 10, 0))\n",
    "\n",
    "last_digits(sum(map(n -> n^n, 1:big(1000))))"
   ]
  },
  {
   "cell_type": "markdown",
   "metadata": {},
   "source": [
    "### [Problem 49](https://projecteuler.net/problem=49)\n",
    "\n",
    "Find the members of a 4-digits sequence."
   ]
  },
  {
   "cell_type": "code",
   "execution_count": 19,
   "metadata": {
    "collapsed": false
   },
   "outputs": [
    {
     "data": {
      "text/plain": [
       "296962999629"
      ]
     },
     "execution_count": 19,
     "metadata": {},
     "output_type": "execute_result"
    }
   ],
   "source": [
    "is_unusual(seq) = all(isprime, seq) && all(pair -> isanagram(pair...), subsets(seq, 2))\n",
    "\n",
    "combine(filter(seq -> seq[1] != 1487, filter(is_unusual, map(a -> [a, a + 3330, a + 6660], 1000:3340)))[1])"
   ]
  },
  {
   "cell_type": "markdown",
   "metadata": {},
   "source": [
    "### [Problem 50](https://projecteuler.net/problem=50)\n",
    "\n",
    "Which prime, below one-million, can be written as the sum of the most consecutive primes?"
   ]
  },
  {
   "cell_type": "code",
   "execution_count": 6,
   "metadata": {
    "collapsed": false
   },
   "outputs": [
    {
     "data": {
      "text/plain": [
       "997651"
      ]
     },
     "execution_count": 6,
     "metadata": {},
     "output_type": "execute_result"
    }
   ],
   "source": [
    "ceiling = 10^6\n",
    "useprimes = primes(ceiling)\n",
    "\n",
    "l = []\n",
    "for i in 1:length(useprimes)-1\n",
    "    consecutive = 0\n",
    "    Σ_primes = useprimes[i]\n",
    "    while Σ_primes < ceiling\n",
    "        if isprime(Σ_primes)\n",
    "            push!(l, (consecutive, Σ_primes))\n",
    "        end\n",
    "        consecutive += 1\n",
    "        Σ_primes += useprimes[i + consecutive]\n",
    "    end\n",
    "end\n",
    "\n",
    "maximum(l)[2]"
   ]
  },
  {
   "cell_type": "markdown",
   "metadata": {},
   "source": [
    "### [Problem 51](https://projecteuler.net/problem=51)\n",
    "\n",
    "Find the smallest prime which, by replacing part of the number (not necessarily adjacent digits) with the same digit, is part of an eight prime value family."
   ]
  },
  {
   "cell_type": "code",
   "execution_count": 4,
   "metadata": {
    "collapsed": false
   },
   "outputs": [
    {
     "name": "stdout",
     "output_type": "stream",
     "text": [
      "121313"
     ]
    }
   ],
   "source": [
    "function replacements(prime, subset)\n",
    "    digits = 1 in subset ? collect(1:9) : collect(0:9)\n",
    "    return map(d -> Digits.replace(prime, subset, fill(d, length(subset))), digits)\n",
    "end\n",
    "\n",
    "family_size(prime, subset) = sum(isprime, replacements(prime, subset))\n",
    "\n",
    "for n in countfrom(5), prime in primes(10^n, 10^(n+1)), subset in subsets(1:n)\n",
    "    if family_size(prime, subset) == 8 && prime in replacements(prime, subset)\n",
    "        print(prime)\n",
    "        break\n",
    "    end\n",
    "end"
   ]
  },
  {
   "cell_type": "markdown",
   "metadata": {},
   "source": [
    "### [Problem 52](https://projecteuler.net/problem=52)\n",
    "\n",
    "Find the smallest positive integer, x, such that 2x, 3x, 4x, 5x, and 6x, contain the same digits."
   ]
  },
  {
   "cell_type": "code",
   "execution_count": 6,
   "metadata": {
    "collapsed": false
   },
   "outputs": [
    {
     "data": {
      "text/plain": [
       "142857"
      ]
     },
     "execution_count": 6,
     "metadata": {},
     "output_type": "execute_result"
    }
   ],
   "source": [
    "products_contain_same_digits(x) = all(n -> sort(digits(x*n)) == sort(digits(x)), 2:6)\n",
    "\n",
    "ifirst(products_contain_same_digits, countfrom(2))"
   ]
  },
  {
   "cell_type": "markdown",
   "metadata": {},
   "source": [
    "### [Problem 53](https://projecteuler.net/problem=53)\n",
    "\n",
    "How many, not necessarily distinct, values of  nCr, for 1 ≤ n ≤ 100, are greater than one-million?"
   ]
  },
  {
   "cell_type": "code",
   "execution_count": 86,
   "metadata": {
    "collapsed": false
   },
   "outputs": [
    {
     "data": {
      "text/plain": [
       "4075"
      ]
     },
     "execution_count": 86,
     "metadata": {},
     "output_type": "execute_result"
    }
   ],
   "source": [
    "nCr(n, r) = div(factorial(n),  (factorial(r) * factorial(n-r)))\n",
    "\n",
    "count(t -> nCr(reverse(t)...) > 10^6, combinations(1:big(100), 2))"
   ]
  },
  {
   "cell_type": "markdown",
   "metadata": {},
   "source": [
    "### [Problem 54](https://projecteuler.net/problem=54)\n",
    "\n",
    "How many poker hands does Player 1 win?"
   ]
  },
  {
   "cell_type": "code",
   "execution_count": 82,
   "metadata": {
    "collapsed": false
   },
   "outputs": [
    {
     "data": {
      "text/plain": [
       "376"
      ]
     },
     "execution_count": 82,
     "metadata": {},
     "output_type": "execute_result"
    }
   ],
   "source": [
    "a = readdlm(\"files/p054_poker.txt\", ASCIIString)\n",
    "\n",
    "function rank(hand)\n",
    "    vals = map(card -> searchindex(\"x23456789TJQKA\", card[1]), hand)\n",
    "    suits = map(card->card[2], hand)\n",
    "    flush = length(Set(suits)) == 1\n",
    "    straight = maximum(vals) - minimum(vals) == 4 && length(Set(vals)) == 5\n",
    "    of_a_kind = hist(vals, maximum(vals))[2]\n",
    "    if straight && flush\n",
    "        order = \"8_\"\n",
    "    elseif 4 in of_a_kind\n",
    "        order = \"7_\"\n",
    "    elseif 3 in of_a_kind && 2 in of_a_kind\n",
    "        order = \"6_\"    \n",
    "    elseif flush\n",
    "        order = \"5_\"\n",
    "    elseif straight\n",
    "        order = \"4_\"\n",
    "    elseif 3 in of_a_kind\n",
    "        order = \"3_\"\n",
    "    elseif count(n -> n==2, of_a_kind) == 2\n",
    "        order = \"2_\"\n",
    "    elseif 2 in of_a_kind\n",
    "        order = \"1_\"\n",
    "    else\n",
    "        order = \"0_\"\n",
    "    end\n",
    "    \n",
    "    sorted_values = map(t -> t[1], sort([(k,v) for (k,v) in counter(vals)], by=t->reverse(t), rev=true))\n",
    "    sorted_values_str = map(value -> lpad(string(value), 2, \"0\"), sorted_values)\n",
    "    return order * join(sorted_values_str, \"_\")\n",
    "end\n",
    "    \n",
    "count(i -> rank(a[i, :][1:5]) > rank(a[i, :][6:end]), 1:1000)"
   ]
  },
  {
   "cell_type": "markdown",
   "metadata": {},
   "source": [
    "### [Problem 55](https://projecteuler.net/problem=55)\n",
    "\n",
    "How many Lychrel numbers are there below ten-thousand?"
   ]
  },
  {
   "cell_type": "code",
   "execution_count": 87,
   "metadata": {
    "collapsed": false
   },
   "outputs": [
    {
     "data": {
      "text/plain": [
       "249"
      ]
     },
     "execution_count": 87,
     "metadata": {},
     "output_type": "execute_result"
    }
   ],
   "source": [
    "function is_lychrel(n)\n",
    "    for _ in 1:50\n",
    "        n += reversedigits(n)\n",
    "        ispalindrome(n) && return false\n",
    "    end\n",
    "    return true\n",
    "end\n",
    "\n",
    "count(is_lychrel, 1:big(9999))"
   ]
  },
  {
   "cell_type": "markdown",
   "metadata": {},
   "source": [
    "### [Problem 56](https://projecteuler.net/problem=56)\n",
    "\n",
    "Considering natural numbers of the form, a^b, where a, b < 100, what is the maximum digital sum?"
   ]
  },
  {
   "cell_type": "code",
   "execution_count": 148,
   "metadata": {
    "collapsed": false
   },
   "outputs": [
    {
     "data": {
      "text/plain": [
       "972"
      ]
     },
     "execution_count": 148,
     "metadata": {},
     "output_type": "execute_result"
    }
   ],
   "source": [
    "maximum([sum(digits(a^b)) for a in 1:big(99), b in 1:99])"
   ]
  },
  {
   "cell_type": "markdown",
   "metadata": {},
   "source": [
    "### [Problem 57](https://projecteuler.net/problem=57)\n",
    "\n",
    "In the first one-thousand expansions of the square root of 2, how many fractions contain a numerator with more digits than denominator?"
   ]
  },
  {
   "cell_type": "code",
   "execution_count": 20,
   "metadata": {
    "collapsed": false
   },
   "outputs": [
    {
     "data": {
      "text/plain": [
       "153"
      ]
     },
     "execution_count": 20,
     "metadata": {},
     "output_type": "execute_result"
    }
   ],
   "source": [
    "nfractions = 0\n",
    "expander = big(2)\n",
    "for _ in 1:1000\n",
    "    expander = 2 + 1 // expander\n",
    "    fraction = 1 + 1 // expander\n",
    "    \n",
    "    if ndigits(num(fraction)) > ndigits(den(fraction))\n",
    "        nfractions += 1\n",
    "    end\n",
    "end\n",
    "nfractions"
   ]
  },
  {
   "cell_type": "markdown",
   "metadata": {},
   "source": [
    "### [Problem 58](https://projecteuler.net/problem=58)\n",
    "\n",
    "What is the side length of the square spiral for which the ratio of primes along both diagonals first falls below 10%?"
   ]
  },
  {
   "cell_type": "code",
   "execution_count": 91,
   "metadata": {
    "collapsed": false
   },
   "outputs": [
    {
     "name": "stdout",
     "output_type": "stream",
     "text": [
      "26241"
     ]
    }
   ],
   "source": [
    "nprimes = 0\n",
    "diagonal_number = 1\n",
    "for sidelength in countfrom(3,2), corner in 1:4\n",
    "    diagonal_number += sidelength - 1\n",
    "    nprimes += isprime(diagonal_number)\n",
    "    \n",
    "    if nprimes / (2 * sidelength - 1) < 0.1\n",
    "        print(sidelength)\n",
    "        break\n",
    "    end\n",
    "end"
   ]
  },
  {
   "cell_type": "markdown",
   "metadata": {},
   "source": [
    "### [Problem 59](https://projecteuler.net/problem=59)\n",
    "\n",
    "Find the key that decrypts a file."
   ]
  },
  {
   "cell_type": "code",
   "execution_count": 30,
   "metadata": {
    "collapsed": false
   },
   "outputs": [
    {
     "data": {
      "text/plain": [
       "107359"
      ]
     },
     "execution_count": 30,
     "metadata": {},
     "output_type": "execute_result"
    }
   ],
   "source": [
    "# Check all possible keys, and identify the key that finds at least 7 common words.\n",
    "\n",
    "common_words = [\"the\", \"and\", \"be\", \"of\", \"that\", \"have\", \"for\", \"it\", \"not\", \"on\", \"with\", \"you\"]\n",
    "\n",
    "text = readdlm(\"files/p059_cipher.txt\", ',', Int)\n",
    "\n",
    "many_common_words(text) = count(word -> Base.contains(text, word), common_words) > 6\n",
    "\n",
    "convert(text, key) = [letter $ key[1 + (i - 1) % 3] for (i, letter) in enumerate(text)]\n",
    "\n",
    "decrypt(text, key) = join(map(Char, convert(text, key)))\n",
    "\n",
    "keys = Iterators.product(97:123, 97:123, 97:123)\n",
    "\n",
    "key = ifirst(key -> many_common_words(decrypt(text, key)), keys)\n",
    "\n",
    "sum(convert(text, key))"
   ]
  },
  {
   "cell_type": "markdown",
   "metadata": {},
   "source": [
    "### [Problem 60](https://projecteuler.net/problem=60)\n",
    "\n",
    "Find the lowest sum for a set of five primes for which any two primes concatenate to produce another prime."
   ]
  },
  {
   "cell_type": "code",
   "execution_count": 15,
   "metadata": {
    "collapsed": false
   },
   "outputs": [
    {
     "data": {
      "text/plain": [
       "26033"
      ]
     },
     "execution_count": 15,
     "metadata": {},
     "output_type": "execute_result"
    }
   ],
   "source": [
    "# Add the primes recursively one at a time, so that all primes in the set concatenate with each other.\n",
    "\n",
    "useprimes = primes(10^4)\n",
    "\n",
    "function all_concats_are_prime(p_indices, i)\n",
    "    for p_index in p_indices\n",
    "        p1, p2 = useprimes[p_index], useprimes[i]\n",
    "        (! isprime(combine(p1, p2)) || ! isprime(combine(p2, p1))) && return false    \n",
    "    end\n",
    "    return true\n",
    "end\n",
    "\n",
    "function find_primeset(p_indices)\n",
    "    length(p_indices) == 5 && return p_indices\n",
    "    start = isempty(p_indices) ? 1 : p_indices[end] + 1\n",
    "    \n",
    "    for i in start:length(useprimes)\n",
    "        if all_concats_are_prime(p_indices, i)\n",
    "            result = find_primeset(push!(copy(p_indices), i))\n",
    "            result != nothing && return result\n",
    "        end\n",
    "    end\n",
    "end    \n",
    "\n",
    "sum(map(n -> useprimes[n], find_primeset([])))"
   ]
  },
  {
   "cell_type": "markdown",
   "metadata": {
    "collapsed": false
   },
   "source": [
    "### [Problem 61](https://projecteuler.net/problem=61)\n",
    "\n",
    "Find the sum of the only ordered set of six cyclic 4-digit numbers for which each polygonal type: triangle, square, pentagonal, hexagonal, heptagonal, and octagonal, is represented by a different number in the set."
   ]
  },
  {
   "cell_type": "code",
   "execution_count": 74,
   "metadata": {
    "collapsed": false
   },
   "outputs": [
    {
     "data": {
      "text/plain": [
       "28684"
      ]
     },
     "execution_count": 74,
     "metadata": {},
     "output_type": "execute_result"
    }
   ],
   "source": [
    "type Number\n",
    "    nsides::Int\n",
    "    value::Int\n",
    "end\n",
    "\n",
    "ndigits = 4\n",
    "len = 6\n",
    "polygons = {nsides => filter(n -> 10^(ndigits-1) <= n <= 10^ndigits, polygonal_numbers(nsides, 200)) for nsides in 3:2+len}\n",
    "\n",
    "remaining_polygons(chain) = setdiff(Set(3:2+len), Set(map(number -> number.nsides, chain)))\n",
    "\n",
    "arelinked(n1, n2) = digits(crop(n1, 2)) == digits(crop(n2, -2))\n",
    "\n",
    "function fits(chain, number)\n",
    "    isempty(chain) && return true\n",
    "    ! arelinked(chain[end].value, number) && return false\n",
    "    if length(chain) == len - 1\n",
    "        return arelinked(number, chain[1].value)\n",
    "    else\n",
    "        return true\n",
    "    end\n",
    "end\n",
    "\n",
    "function get_chain(chain)\n",
    "    length(chain) == len && return chain\n",
    "            \n",
    "    for nsides in remaining_polygons(chain)\n",
    "        for value in polygons[nsides]\n",
    "            if fits(chain, value)\n",
    "                new_chain = get_chain(push!(copy(chain), Number(nsides, value)))\n",
    "                new_chain != nothing && return new_chain\n",
    "            end\n",
    "        end\n",
    "    end\n",
    "end\n",
    "\n",
    "sum(number -> number.value, get_chain([]))"
   ]
  },
  {
   "cell_type": "markdown",
   "metadata": {},
   "source": [
    "### [Problem 62](https://projecteuler.net/problem=62)\n",
    "\n",
    "Find the smallest cube for which exactly five permutations of its digits are cube."
   ]
  },
  {
   "cell_type": "code",
   "execution_count": 53,
   "metadata": {
    "collapsed": false
   },
   "outputs": [
    {
     "name": "stdout",
     "output_type": "stream",
     "text": [
      "127035954683"
     ]
    }
   ],
   "source": [
    "cubes = DefaultDict(Array{Int,1})\n",
    "cubes_that_are_permutations_of(n) = cubes[sort(digits(n), rev=true)]\n",
    "\n",
    "for n in countfrom()\n",
    "    cube = n^3\n",
    "    push!(cubes_that_are_permutations_of(cube), cube)\n",
    "    if length(cubes_that_are_permutations_of(cube)) == 5\n",
    "        print(cubes_that_are_permutations_of(cube)[1])\n",
    "        break\n",
    "    end\n",
    "end"
   ]
  },
  {
   "cell_type": "markdown",
   "metadata": {},
   "source": [
    "### [Problem 63](https://projecteuler.net/problem=63)\n",
    "\n",
    "How many n-digit positive integers exist which are also an nth power?"
   ]
  },
  {
   "cell_type": "code",
   "execution_count": 26,
   "metadata": {
    "collapsed": false
   },
   "outputs": [
    {
     "data": {
      "text/plain": [
       "49"
      ]
     },
     "execution_count": 26,
     "metadata": {},
     "output_type": "execute_result"
    }
   ],
   "source": [
    "sum([ndigits(base^n) == n for base in 1:big(100), n in 1:100])"
   ]
  },
  {
   "cell_type": "markdown",
   "metadata": {},
   "source": [
    "### [Problem 64](https://projecteuler.net/problem=64)\n",
    "\n",
    "How many continued fractions for N ≤ 10000 have an odd period?"
   ]
  },
  {
   "cell_type": "code",
   "execution_count": 7,
   "metadata": {
    "collapsed": false
   },
   "outputs": [
    {
     "data": {
      "text/plain": [
       "1322"
      ]
     },
     "execution_count": 7,
     "metadata": {},
     "output_type": "execute_result"
    }
   ],
   "source": [
    "# Algorithm from https://en.wikipedia.org/wiki/Methods_of_computing_square_roots#Algorithm\n",
    "function continued_fraction_period(n)\n",
    "    m, d = 0, 1\n",
    "    a0 = floor(sqrt(n))\n",
    "    a = [a0]\n",
    "    while 2 * a0 != a[end]\n",
    "        m = d * a[end] - m\n",
    "        d = (n - m^2) / d\n",
    "        push!(a, floor((a0 + m) / d))\n",
    "    end\n",
    "    return a\n",
    "end\n",
    "\n",
    "count(n -> iseven(length(continued_fraction_period(n))), non_squares(2, 10^4))"
   ]
  },
  {
   "cell_type": "markdown",
   "metadata": {},
   "source": [
    "### [Problem 65](https://projecteuler.net/problem=65)\n",
    "\n",
    "Find the sum of digits in the numerator of the 100th convergent of the continued fraction for e."
   ]
  },
  {
   "cell_type": "code",
   "execution_count": 7,
   "metadata": {
    "collapsed": false
   },
   "outputs": [
    {
     "data": {
      "text/plain": [
       "272"
      ]
     },
     "execution_count": 7,
     "metadata": {},
     "output_type": "execute_result"
    }
   ],
   "source": [
    "continued_fraction(n) = n % 3 == 2 ? 2*n : 1\n",
    "\n",
    "num, den = 2, big(1)\n",
    "for n in 1:100\n",
    "    num, den = continued_fraction(n) * den + num, num\n",
    "end\n",
    "\n",
    "sum(digits(den))"
   ]
  },
  {
   "cell_type": "markdown",
   "metadata": {},
   "source": [
    "### [Problem 66](https://projecteuler.net/problem=66)\n",
    "\n",
    "Solve diophantine equations."
   ]
  },
  {
   "cell_type": "code",
   "execution_count": 23,
   "metadata": {
    "collapsed": false
   },
   "outputs": [
    {
     "data": {
      "text/plain": [
       "661"
      ]
     },
     "execution_count": 23,
     "metadata": {},
     "output_type": "execute_result"
    }
   ],
   "source": [
    "function get_x(D)\n",
    "    conv = convergents(ContinuedFraction(sqrt(big(D))))\n",
    "    return den(ifirst(fraction -> num(fraction)^2 - D * den(fraction)^2 == 1, conv))\n",
    "end\n",
    "    \n",
    "maximum(D -> (get_x(D), D), non_squares(1, 1000))[2]"
   ]
  },
  {
   "cell_type": "markdown",
   "metadata": {},
   "source": [
    "### [Problem 67](https://projecteuler.net/problem=67)\n",
    "\n",
    "Find the maximum sum traveling from the top of the triangle to the base."
   ]
  },
  {
   "cell_type": "code",
   "execution_count": 8,
   "metadata": {
    "collapsed": false
   },
   "outputs": [
    {
     "data": {
      "text/plain": [
       "7273"
      ]
     },
     "execution_count": 8,
     "metadata": {},
     "output_type": "execute_result"
    }
   ],
   "source": [
    "a = readdlm(\"files/p067_triangle.txt\")\n",
    "\n",
    "for row in reverse(1:size(a, 2)-1), col in 1:row\n",
    "    a[row, col] += max(a[row+1, col], a[row+1, col+1])\n",
    "end\n",
    "\n",
    "a[1, 1]"
   ]
  },
  {
   "cell_type": "markdown",
   "metadata": {},
   "source": [
    "### [Problem 68](https://projecteuler.net/problem=68)\n",
    "\n",
    "What is the maximum 16-digit string for a \"magic\" 5-gon ring?"
   ]
  },
  {
   "cell_type": "code",
   "execution_count": 136,
   "metadata": {
    "collapsed": false
   },
   "outputs": [
    {
     "data": {
      "text/plain": [
       "6531031914842725"
      ]
     },
     "execution_count": 136,
     "metadata": {},
     "output_type": "execute_result"
    }
   ],
   "source": [
    "a = hcat([1, 2, 3], [4, 3, 5], [6, 5, 7], [8, 7, 9], [10, 9, 2])\n",
    "\n",
    "solutions = []\n",
    "for ring in permutations(1:10)\n",
    "    if all(i -> ring[1] <= ring[i], a[1, :]) && all(i -> sum(ring[a[:, 1]]) == sum(ring[a[:, i]]), 2:size(a, 2))\n",
    "        push!(solutions, combine(map(i -> ring[i], collect(a))))\n",
    "    end\n",
    "end\n",
    "\n",
    "maximum(filter(solution -> length(digits(solution)) == 16, solutions))"
   ]
  },
  {
   "cell_type": "markdown",
   "metadata": {},
   "source": [
    "### [Problem 69](https://projecteuler.net/problem=69)\n",
    "\n",
    "Find the value of n ≤ 1,000,000 for which n/φ(n) is a maximum."
   ]
  },
  {
   "cell_type": "code",
   "execution_count": 26,
   "metadata": {
    "collapsed": false
   },
   "outputs": [
    {
     "data": {
      "text/plain": [
       "510510"
      ]
     },
     "execution_count": 26,
     "metadata": {},
     "output_type": "execute_result"
    }
   ],
   "source": [
    "maximum(map(n -> (n / totient(n), n), 1:10^6))[2]"
   ]
  },
  {
   "cell_type": "markdown",
   "metadata": {},
   "source": [
    "### [Problem 70](https://projecteuler.net/problem=70)\n",
    "\n",
    "Find the value of n, 1 < n < 10^7, for which φ(n) is a permutation of n and the ratio n/φ(n) produces a minimum4"
   ]
  },
  {
   "cell_type": "code",
   "execution_count": 36,
   "metadata": {
    "collapsed": false
   },
   "outputs": [
    {
     "data": {
      "text/plain": [
       "8319823"
      ]
     },
     "execution_count": 36,
     "metadata": {},
     "output_type": "execute_result"
    }
   ],
   "source": [
    "# φ is lowest when its the product of two primes. \n",
    "# The algorithm searches through all pairs of primes and saves the best pair product.\n",
    "ceiling = 10^7\n",
    "useprimes = primes(ceiling)\n",
    "\n",
    "min, min_n = 10, 0\n",
    "for i in 1:length(useprimes)\n",
    "    for j in i+1:length(useprimes)\n",
    "        p1, p2 = useprimes[i], useprimes[j]\n",
    "        n = p1 * p2\n",
    "        n > ceiling && break\n",
    "        φ_n = (1 - p1) * (1 - p2)\n",
    "        if isanagram(n, φ_n) && n / φ_n < min\n",
    "            min, min_n = n / φ_n, n\n",
    "        end\n",
    "    end\n",
    "end\n",
    "min_n"
   ]
  },
  {
   "cell_type": "markdown",
   "metadata": {},
   "source": [
    "### [Problem 71](https://projecteuler.net/problem=71)\n",
    "\n",
    "By listing the set of reduced proper fractions for d ≤ 1,000,000 in ascending order of size, find the numerator of the fraction immediately to the left of 3/7."
   ]
  },
  {
   "cell_type": "code",
   "execution_count": 143,
   "metadata": {
    "collapsed": false
   },
   "outputs": [
    {
     "data": {
      "text/plain": [
       "428570"
      ]
     },
     "execution_count": 143,
     "metadata": {},
     "output_type": "execute_result"
    }
   ],
   "source": [
    "ceiling = 10^6\n",
    "close_fractions = [Int(floor(3*den/7)) // den for den in 1:ceiling]\n",
    "num(maximum(filter(fraction -> fraction != 3//7, close_fractions)))"
   ]
  },
  {
   "cell_type": "markdown",
   "metadata": {},
   "source": [
    "### [Problem 72](https://projecteuler.net/problem=72)\n",
    "\n",
    "How many elements would be contained in the set of reduced proper fractions for d ≤ 1,000,000?"
   ]
  },
  {
   "cell_type": "code",
   "execution_count": 23,
   "metadata": {
    "collapsed": false
   },
   "outputs": [
    {
     "data": {
      "text/plain": [
       "303963552391"
      ]
     },
     "execution_count": 23,
     "metadata": {},
     "output_type": "execute_result"
    }
   ],
   "source": [
    "sum(map(totient, 2:10^6))"
   ]
  },
  {
   "cell_type": "markdown",
   "metadata": {},
   "source": [
    "### [Problem 73](https://projecteuler.net/problem=73)\n",
    "\n",
    "How many fractions lie between 1/3 and 1/2 in the sorted set of reduced proper fractions for d ≤ 12,000?"
   ]
  },
  {
   "cell_type": "code",
   "execution_count": 34,
   "metadata": {
    "collapsed": false
   },
   "outputs": [
    {
     "data": {
      "text/plain": [
       "7295372"
      ]
     },
     "execution_count": 34,
     "metadata": {},
     "output_type": "execute_result"
    }
   ],
   "source": [
    "reduced_fractions = 0\n",
    "for den in 4:12000, num in div(den, 3)+1:div(den, 2)\n",
    "    if gcd(num, den) == 1\n",
    "        reduced_fractions += 1\n",
    "    end\n",
    "end\n",
    "reduced_fractions"
   ]
  },
  {
   "cell_type": "markdown",
   "metadata": {},
   "source": [
    "### [Problem 74](https://projecteuler.net/problem=74)\n",
    "\n",
    "How many chains, with a starting number below one million, contain exactly sixty non-repeating terms?"
   ]
  },
  {
   "cell_type": "code",
   "execution_count": 56,
   "metadata": {
    "collapsed": false
   },
   "outputs": [
    {
     "data": {
      "text/plain": [
       "402"
      ]
     },
     "execution_count": 56,
     "metadata": {},
     "output_type": "execute_result"
    }
   ],
   "source": [
    "# For each starting number, find the chain. Add all the numbers in that chain to 'lengths' dictionary.\n",
    "# This dictionary is used to find the lengths of future chains.\n",
    "\n",
    "lengths = {169 => 3, 363601 => 3, 1454 => 3, 871 => 2, 45361 => 2, 872 => 2, 45362 => 2}\n",
    "for start in 1:10^6\n",
    "    chain = [start]\n",
    "    while true\n",
    "        if chain[end] in keys(lengths)\n",
    "            for (i, elem) in enumerate(chain)\n",
    "                lengths[elem] = length(chain) - i + lengths[chain[end]]\n",
    "            end\n",
    "            break\n",
    "        end\n",
    "        push!(chain, sum(map(factorial, digits(chain[end]))))\n",
    "        if chain[end] == chain[end-1]\n",
    "            lengths[chain[end]] = length(chain) - 1\n",
    "            break\n",
    "        end\n",
    "    end\n",
    "end\n",
    "\n",
    "count(n -> n == 60, values(lengths))"
   ]
  },
  {
   "cell_type": "markdown",
   "metadata": {},
   "source": [
    "### [Problem 75](https://projecteuler.net/problem=75)\n",
    "\n",
    "Given that L is the length of the wire, for how many values of L ≤ 1,500,000 can exactly one integer sided right angle triangle be formed?"
   ]
  },
  {
   "cell_type": "code",
   "execution_count": 82,
   "metadata": {
    "collapsed": false
   },
   "outputs": [
    {
     "data": {
      "text/plain": [
       "161667"
      ]
     },
     "execution_count": 82,
     "metadata": {},
     "output_type": "execute_result"
    }
   ],
   "source": [
    "# Formula from https://en.wikipedia.org/wiki/Pythagorean_triple#Generating_a_triple\n",
    "\n",
    "ceiling = 1.5 * 10^6\n",
    "high = Int(floor(sqrt(ceiling)))\n",
    "\n",
    "perimeters = []\n",
    "for n in 1:high, m in n+1:2:high\n",
    "    if gcd(m, n) == 1\n",
    "        for k in countfrom()\n",
    "            perimeter = k * (m^2 - n^2 + 2*m*n + m^2 + n^2)\n",
    "            perimeter > ceiling && break\n",
    "            push!(perimeters, perimeter)\n",
    "        end\n",
    "    end\n",
    "end\n",
    "\n",
    "count(t -> t[2] == 1, counter(perimeters))"
   ]
  },
  {
   "cell_type": "markdown",
   "metadata": {},
   "source": [
    "### [Problem 76](https://projecteuler.net/problem=76)\n",
    "\n",
    "How many different ways can one hundred be written as a sum of at least two positive integers?"
   ]
  },
  {
   "cell_type": "code",
   "execution_count": 19,
   "metadata": {
    "collapsed": false
   },
   "outputs": [
    {
     "data": {
      "text/plain": [
       "190569291"
      ]
     },
     "execution_count": 19,
     "metadata": {},
     "output_type": "execute_result"
    }
   ],
   "source": [
    "n = 100\n",
    "\n",
    "ways = vcat([1], fill(0, n))\n",
    "\n",
    "for i in 1:ceiling, j in 1:n -i +1\n",
    "    ways[j + i] += ways[j]\n",
    "end\n",
    "\n",
    "ways[n+1]-1"
   ]
  },
  {
   "cell_type": "markdown",
   "metadata": {},
   "source": [
    "### [Problem 77](https://projecteuler.net/problem=77)\n",
    "\n",
    "What is the first value which can be written as the sum of primes in over five thousand different ways?"
   ]
  },
  {
   "cell_type": "code",
   "execution_count": 33,
   "metadata": {
    "collapsed": false
   },
   "outputs": [
    {
     "data": {
      "text/plain": [
       "71"
      ]
     },
     "execution_count": 33,
     "metadata": {},
     "output_type": "execute_result"
    }
   ],
   "source": [
    "ceiling = 100\n",
    "\n",
    "ways = vcat([1], fill(0, ceiling))\n",
    "\n",
    "for prime in primes(ceiling), n in 1:ceiling -prime -1\n",
    "    ways[n + prime] += ways[n]\n",
    "end\n",
    "\n",
    "ifirst(t -> t[2] > 5000, enumerate(ways))[1] -1"
   ]
  },
  {
   "cell_type": "markdown",
   "metadata": {},
   "source": [
    "### [Problem 78](https://projecteuler.net/problem=78)\n",
    "\n",
    "Let p(n) represent the number of different ways in which n coins can be separated into piles. Find the least value of n for which p(n) is divisible by one million."
   ]
  },
  {
   "cell_type": "code",
   "execution_count": 22,
   "metadata": {
    "collapsed": false
   },
   "outputs": [
    {
     "data": {
      "text/plain": [
       "55374"
      ]
     },
     "execution_count": 22,
     "metadata": {},
     "output_type": "execute_result"
    }
   ],
   "source": [
    "# Solution from https://en.wikipedia.org/wiki/Partition_(number_theory) :\n",
    "# p(k) = p(k − 1) + p(k − 2) − p(k − 5) − p(k − 7) + p(k − 12) + p(k − 15) − p(k − 22) − ...\n",
    "p = [big(1)]\n",
    "pentagonals = filter(n -> n != 0, sort(map(pentagonal_number, -250:250)))\n",
    "signs = map(big, [1,1,-1,-1])\n",
    "\n",
    "while p[end] % 10^6 != 0\n",
    "\n",
    "    p_n = big(0)\n",
    "    i = 1\n",
    "    while pentagonals[i] <= length(p)\n",
    "        p_n += signs[(i-1)%4+1] * p[length(p) + 1 - pentagonals[i]]\n",
    "        i += 1\n",
    "    end\n",
    "\n",
    "    push!(p, p_n)\n",
    "end\n",
    "\n",
    "length(p) - 1"
   ]
  },
  {
   "cell_type": "markdown",
   "metadata": {},
   "source": [
    "### [Problem 79](https://projecteuler.net/problem=79)\n",
    "\n",
    "Analyse the file so as to determine the shortest possible secret passcode of unknown length."
   ]
  },
  {
   "cell_type": "code",
   "execution_count": 59,
   "metadata": {
    "collapsed": false
   },
   "outputs": [
    {
     "data": {
      "text/plain": [
       "\"73162890\""
      ]
     },
     "execution_count": 59,
     "metadata": {},
     "output_type": "execute_result"
    }
   ],
   "source": [
    "logins = Set(readdlm(\"files/p079_keylog.txt\", ASCIIString))\n",
    "\n",
    "numbers_pressed_after = DefaultDict(Set)\n",
    "\n",
    "for login in logins\n",
    "    push!(numbers_pressed_after[login[1]], login[2])\n",
    "    push!(numbers_pressed_after[login[1]], login[3])\n",
    "    push!(numbers_pressed_after[login[2]], login[3])\n",
    "    push!(numbers_pressed_after[login[3]], \"\")\n",
    "    \n",
    "end\n",
    "\n",
    "join(map(t -> t[2], sort([(length(v), k) for (k,v) in numbers_pressed_after], rev=true)))"
   ]
  },
  {
   "cell_type": "markdown",
   "metadata": {
    "collapsed": true
   },
   "source": [
    "### [Problem 80](https://projecteuler.net/problem=80)\n",
    "\n",
    "For the first one hundred natural numbers, find the total of the digital sums of the first one hundred decimal digits for all the irrational square roots."
   ]
  },
  {
   "cell_type": "code",
   "execution_count": 2,
   "metadata": {
    "collapsed": false
   },
   "outputs": [
    {
     "data": {
      "text/plain": [
       "40886"
      ]
     },
     "execution_count": 2,
     "metadata": {},
     "output_type": "execute_result"
    }
   ],
   "source": [
    "using PyCall\n",
    "@pyimport sympy\n",
    "\n",
    "first_hundred_digits(n) = digits(parse(BigInt, Base.replace(repr(sympy.N(n, 102))[10:end-2], \".\", \"\")))\n",
    "\n",
    "sum(map(n -> sum(first_hundred_digits(sympy.sqrt(n))), non_squares(2,100)))"
   ]
  }
 ],
 "metadata": {
  "kernelspec": {
   "display_name": "Julia 0.4.5",
   "language": "julia",
   "name": "julia-0.4"
  },
  "language_info": {
   "file_extension": ".jl",
   "mimetype": "application/julia",
   "name": "julia",
   "version": "0.4.5"
  }
 },
 "nbformat": 4,
 "nbformat_minor": 0
}
