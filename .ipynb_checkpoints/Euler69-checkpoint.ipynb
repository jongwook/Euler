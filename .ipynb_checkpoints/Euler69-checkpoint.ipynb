{
 "cells": [
  {
   "cell_type": "markdown",
   "metadata": {},
   "source": [
    "The solution must be the product of a sequence of prime numbers starting with 2.\n",
    "\n",
    "- If the solution number is not the product of a sequence of prime numbers, then at least one prime factor must be present twice. This makes the solution number larger without decreasing the number of relatively prime numbers.\n",
    "\n",
    "- The lowest sequence of prime numbers allows for a larger number of divisors than other sequences of prime numbers."
   ]
  },
  {
   "cell_type": "code",
   "execution_count": 14,
   "metadata": {
    "collapsed": false
   },
   "outputs": [
    {
     "name": "stdout",
     "output_type": "stream",
     "text": [
      "510510\n"
     ]
    }
   ],
   "source": [
    "from sympy.ntheory.generate import primorial\n",
    "from itertools import takewhile, count\n",
    "\n",
    "print primorial(max(takewhile(lambda n: primorial(n) <= 10**6, count(1))))"
   ]
  }
 ],
 "metadata": {
  "kernelspec": {
   "display_name": "Python 2",
   "language": "python",
   "name": "python2"
  },
  "language_info": {
   "codemirror_mode": {
    "name": "ipython",
    "version": 2
   },
   "file_extension": ".py",
   "mimetype": "text/x-python",
   "name": "python",
   "nbconvert_exporter": "python",
   "pygments_lexer": "ipython2",
   "version": "2.7.6"
  }
 },
 "nbformat": 4,
 "nbformat_minor": 0
}
