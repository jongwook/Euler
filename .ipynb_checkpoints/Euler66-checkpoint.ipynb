{
 "cells": [
  {
   "cell_type": "markdown",
   "metadata": {
    "collapsed": false
   },
   "source": [
    "Formula from\n",
    "https://en.wikipedia.org/wiki/Pell%27s_equation#Fundamental_solution_via_continued_fractions"
   ]
  },
  {
   "cell_type": "code",
   "execution_count": 5,
   "metadata": {
    "collapsed": false
   },
   "outputs": [
    {
     "name": "stdout",
     "output_type": "stream",
     "text": [
      "661\n"
     ]
    }
   ],
   "source": [
    "from sympy.core.numbers import Integer\n",
    "from sympy import fraction, sqrt\n",
    "from sympy.ntheory.continued_fraction import continued_fraction_iterator, continued_fraction_convergents\n",
    "\n",
    "\n",
    "def get_x(D):\n",
    "    for f in continued_fraction_convergents(continued_fraction_iterator(sqrt(D))):\n",
    "        if type(f) == Integer:\n",
    "            x, y = f, 1\n",
    "        else:\n",
    "            x, y = fraction(f)\n",
    "        if x**2 - D * y**2 == 1:\n",
    "            return x\n",
    "\n",
    "maxD = 1000\n",
    "non_squares = set(range(2, maxD + 1)) - set(n**2 for n in range(int(sqrt(maxD)) + 1))\n",
    "print max(non_squares, key=get_x)\n"
   ]
  }
 ],
 "metadata": {
  "kernelspec": {
   "display_name": "Python 2",
   "language": "python",
   "name": "python2"
  },
  "language_info": {
   "codemirror_mode": {
    "name": "ipython",
    "version": 2
   },
   "file_extension": ".py",
   "mimetype": "text/x-python",
   "name": "python",
   "nbconvert_exporter": "python",
   "pygments_lexer": "ipython2",
   "version": "2.7.6"
  }
 },
 "nbformat": 4,
 "nbformat_minor": 0
}
