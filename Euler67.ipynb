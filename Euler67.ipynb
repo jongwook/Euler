{
 "cells": [
  {
   "cell_type": "code",
   "execution_count": 2,
   "metadata": {
    "collapsed": false
   },
   "outputs": [
    {
     "name": "stdout",
     "output_type": "stream",
     "text": [
      "7273\n"
     ]
    }
   ],
   "source": [
    "with open('Euler67.txt') as inp:\n",
    "    a = [[int(elem) for elem in line.split()] for line in inp]\n",
    "\n",
    "for row in reversed(range(len(a) -1)):\n",
    "    for col in range(len(a[row])):\n",
    "        a[row][col] += max(a[row+1][col], a[row+1][col +1])\n",
    "\n",
    "print a[0][0]"
   ]
  }
 ],
 "metadata": {
  "kernelspec": {
   "display_name": "Python 2",
   "language": "python",
   "name": "python2"
  },
  "language_info": {
   "codemirror_mode": {
    "name": "ipython",
    "version": 2
   },
   "file_extension": ".py",
   "mimetype": "text/x-python",
   "name": "python",
   "nbconvert_exporter": "python",
   "pygments_lexer": "ipython2",
   "version": "2.7.6"
  }
 },
 "nbformat": 4,
 "nbformat_minor": 0
}
