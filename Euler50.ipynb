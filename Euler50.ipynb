{
 "cells": [
  {
   "cell_type": "markdown",
   "metadata": {},
   "source": [
    "https://projecteuler.net/problem=50\n",
    "\n",
    "The prime 41, can be written as the sum of six consecutive primes:\n",
    "\n",
    "41 = 2 + 3 + 5 + 7 + 11 + 13\n",
    "This is the longest sum of consecutive primes that adds to a prime below one-hundred.\n",
    "\n",
    "The longest sum of consecutive primes below one-thousand that adds to a prime, contains 21 terms, and is equal to 953.\n",
    "\n",
    "Which prime, below one-million, can be written as the sum of the most consecutive primes?"
   ]
  },
  {
   "cell_type": "code",
   "execution_count": 1,
   "metadata": {
    "collapsed": false
   },
   "outputs": [
    {
     "name": "stdout",
     "output_type": "stream",
     "text": [
      "997651\n"
     ]
    }
   ],
   "source": [
    "from sympy import sieve\n",
    "\n",
    "ceiling = 10**6\n",
    "\n",
    "primes = list(sieve.primerange(2, ceiling))\n",
    "primeset = set(primes)\n",
    "\n",
    "max_consecutive = 0\n",
    "max_prime = 2\n",
    "for i in range(len(primes) -1):\n",
    "    consecutive = 0\n",
    "    primesum = primes[i]\n",
    "    while primesum < ceiling:\n",
    "        if consecutive > max_consecutive and primesum in primeset:\n",
    "            max_consecutive = consecutive\n",
    "            max_prime = primesum\n",
    "        consecutive += 1\n",
    "        primesum += primes[i+consecutive]\n",
    "\n",
    "print max_prime\n"
   ]
  }
 ],
 "metadata": {
  "kernelspec": {
   "display_name": "Python 2",
   "language": "python",
   "name": "python2"
  },
  "language_info": {
   "codemirror_mode": {
    "name": "ipython",
    "version": 2
   },
   "file_extension": ".py",
   "mimetype": "text/x-python",
   "name": "python",
   "nbconvert_exporter": "python",
   "pygments_lexer": "ipython2",
   "version": "2.7.6"
  }
 },
 "nbformat": 4,
 "nbformat_minor": 0
}
