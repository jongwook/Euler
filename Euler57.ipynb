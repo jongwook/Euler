{
 "cells": [
  {
   "cell_type": "markdown",
   "metadata": {},
   "source": [
    "It is possible to show that the square root of two can be expressed as an infinite continued fraction.\n",
    "\n",
    "√ 2 = 1 + 1/(2 + 1/(2 + 1/(2 + ... ))) = 1.414213...\n",
    "\n",
    "By expanding this for the first four iterations, we get:\n",
    "\n",
    "1 + 1/2 = 3/2 = 1.5\n",
    "1 + 1/(2 + 1/2) = 7/5 = 1.4\n",
    "1 + 1/(2 + 1/(2 + 1/2)) = 17/12 = 1.41666...\n",
    "1 + 1/(2 + 1/(2 + 1/(2 + 1/2))) = 41/29 = 1.41379...\n",
    "\n",
    "The next three expansions are 99/70, 239/169, and 577/408, but the eighth expansion, 1393/985, is the first example where the number of digits in the numerator exceeds the number of digits in the denominator.\n",
    "\n",
    "In the first one-thousand expansions, how many fractions contain a numerator with more digits than denominator?"
   ]
  },
  {
   "cell_type": "code",
   "execution_count": 18,
   "metadata": {
    "collapsed": false
   },
   "outputs": [
    {
     "name": "stdout",
     "output_type": "stream",
     "text": [
      "153\n"
     ]
    }
   ],
   "source": [
    "from fractions import Fraction\n",
    "\n",
    "co = 0\n",
    "expander = 2\n",
    "\n",
    "for _ in range(1000):\n",
    "    expander = Fraction(2 + 1/expander)\n",
    "    fraction = Fraction(1 + 1/expander)\n",
    "\n",
    "    if len(str(fraction.numerator)) > len(str(fraction.denominator)):\n",
    "        co += 1\n",
    "        \n",
    "print co\n"
   ]
  }
 ],
 "metadata": {
  "kernelspec": {
   "display_name": "Python 2",
   "language": "python",
   "name": "python2"
  },
  "language_info": {
   "codemirror_mode": {
    "name": "ipython",
    "version": 2
   },
   "file_extension": ".py",
   "mimetype": "text/x-python",
   "name": "python",
   "nbconvert_exporter": "python",
   "pygments_lexer": "ipython2",
   "version": "2.7.6"
  }
 },
 "nbformat": 4,
 "nbformat_minor": 0
}
