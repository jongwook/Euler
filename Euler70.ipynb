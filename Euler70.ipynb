{
 "cells": [
  {
   "cell_type": "markdown",
   "metadata": {},
   "source": [
    "In order to minimize n / phi(n), n must have as few prime factors as possible. \n",
    "\n",
    "One prime factor is not possible, since if n is a prime then phi(n) = n -1, and n and n -1 cannot be permutations of each other.\n",
    "\n",
    "Thus I look for the best solution that has two prime factors. Additionally, the two prime factors shoule be as close to each other as possible, so I look for solutions up to a little above the square root of the ceiling.\n",
    "\n",
    "Euler's totient function gives us that the totient of two primes p1, p2 is equal to (1 - p1) * (1 - p2)"
   ]
  },
  {
   "cell_type": "code",
   "execution_count": 81,
   "metadata": {
    "collapsed": false
   },
   "outputs": [
    {
     "name": "stdout",
     "output_type": "stream",
     "text": [
      "8319823\n"
     ]
    }
   ],
   "source": [
    "from sympy import sieve, sqrt\n",
    "from itertools import product\n",
    "from operator import itemgetter\n",
    "\n",
    "ceiling = 10**7\n",
    "\n",
    "primes = sieve.primerange(2, int(sqrt(1.3 * int(10**7))))\n",
    "\n",
    "def f():\n",
    "    for p1, p2 in product(primes, repeat=2):\n",
    "        n = p1 * p2\n",
    "        phi = (1 - p1) * (1 - p2)\n",
    "        if n <= ceiling and sorted(str(n)) == sorted(str(phi)):\n",
    "            yield [n / phi, n]\n",
    "\n",
    "print min(f(), key=itemgetter(0))[1]\n"
   ]
  }
 ],
 "metadata": {
  "kernelspec": {
   "display_name": "Python 2",
   "language": "python",
   "name": "python2"
  },
  "language_info": {
   "codemirror_mode": {
    "name": "ipython",
    "version": 2
   },
   "file_extension": ".py",
   "mimetype": "text/x-python",
   "name": "python",
   "nbconvert_exporter": "python",
   "pygments_lexer": "ipython2",
   "version": "2.7.6"
  }
 },
 "nbformat": 4,
 "nbformat_minor": 0
}
