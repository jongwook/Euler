{
 "cells": [
  {
   "cell_type": "code",
   "execution_count": 43,
   "metadata": {
    "collapsed": false
   },
   "outputs": [
    {
     "name": "stdout",
     "output_type": "stream",
     "text": [
      "260324\n"
     ]
    }
   ],
   "source": [
    "import networkx as nx\n",
    "from operator import itemgetter\n",
    "\n",
    "matrix = {(row, col): int(n) for row, line in enumerate(open('p082_matrix.txt')) for col, n in enumerate(line.split(','))}\n",
    "\n",
    "nrows, ncols = max(matrix)\n",
    "\n",
    "starts = {(row, -1) for row in range(nrows)}\n",
    "ends = {(row, ncols) for row in range(nrows)}\n",
    "\n",
    "for start in starts:\n",
    "    matrix[start] = 0\n",
    "\n",
    "directions = {(0, -1), (0, 1), (-1,0), (1,0)}\n",
    "\n",
    "def moves(tile):\n",
    "    return {(tile[0] + move[0], tile[1] + move[1]) for move in directions} & set(matrix)\n",
    "\n",
    "G = nx.DiGraph()\n",
    "for tile in matrix:\n",
    "    for adjacent_tile in moves(tile) & set(matrix):\n",
    "        G.add_edge(tile, adjacent_tile, weight = matrix[adjacent_tile])\n",
    "        \n",
    "paths = nx.single_source_dijkstra_path_length(G, source=(0, -1))\n",
    "\n",
    "print min(val for tile, val in paths.items() if tile in ends)\n"
   ]
  }
 ],
 "metadata": {
  "kernelspec": {
   "display_name": "Python 2",
   "language": "python",
   "name": "python2"
  },
  "language_info": {
   "codemirror_mode": {
    "name": "ipython",
    "version": 2
   },
   "file_extension": ".py",
   "mimetype": "text/x-python",
   "name": "python",
   "nbconvert_exporter": "python",
   "pygments_lexer": "ipython2",
   "version": "2.7.11"
  }
 },
 "nbformat": 4,
 "nbformat_minor": 0
}
