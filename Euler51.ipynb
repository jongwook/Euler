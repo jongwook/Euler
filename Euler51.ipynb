{
 "cells": [
  {
   "cell_type": "markdown",
   "metadata": {},
   "source": [
    "By replacing the 1st digit of the 2-digit number x3, it turns out that six of the nine possible values: 13, 23, 43, 53, 73, and 83, are all prime.\n",
    "\n",
    "By replacing the 3rd and 4th digits of 56xx3 with the same digit, this 5-digit number is the first example having seven primes among the ten generated numbers, yielding the family: 56003, 56113, 56333, 56443, 56663, 56773, and 56993. Consequently 56003, being the first member of this family, is the smallest prime with this property.\n",
    "\n",
    "Find the smallest prime which, by replacing part of the number (not necessarily adjacent digits) with the same digit, is part of an eight prime value family."
   ]
  },
  {
   "cell_type": "code",
   "execution_count": 1,
   "metadata": {
    "collapsed": false
   },
   "outputs": [
    {
     "name": "stdout",
     "output_type": "stream",
     "text": [
      "121313\n"
     ]
    }
   ],
   "source": [
    "from sympy import sieve\n",
    "from itertools import combinations, chain, product\n",
    "from collections import Counter\n",
    "\n",
    "ndigits = 6\n",
    "family_size = 8\n",
    "digits = [str(i) for i in range(10)]\n",
    "primes = sieve.primerange(10**(ndigits-1), 10**ndigits)\n",
    "\n",
    "\n",
    "def replace_xs(m):\n",
    "    for i, prime in enumerate(m):\n",
    "        if prime[0] == 'x':\n",
    "            m[i] = prime.replace('x', '1')\n",
    "        else:\n",
    "            m[i] = prime.replace('x', '0') \n",
    "    return m\n",
    "    \n",
    "\n",
    "def subsets(s):\n",
    "    return chain.from_iterable(combinations(s,n) for n in range(len(s)+1))\n",
    "\n",
    "\n",
    "def replace_with_xs(prime, x_indices):\n",
    "    p = list(str(prime))\n",
    "    for i in x_indices:\n",
    "        p[i] = 'x'\n",
    "    return ''.join(p)\n",
    "\n",
    "\n",
    "def primes_with_xs():\n",
    "    \"\"\"For each prime, find all possible x-containing numbers that could make that prime\"\"\"\n",
    "    for prime, digit in product(primes, digits):\n",
    "        for x_indices in subsets([i for i, elem in enumerate(str(prime)) if elem == digit]):\n",
    "            yield replace_with_xs(prime, x_indices)\n",
    "            \n",
    "m = [prime for prime, copies in Counter(primes_with_xs()).items() if copies == family_size]\n",
    "\n",
    "print min(replace_xs(m))\n"
   ]
  }
 ],
 "metadata": {
  "kernelspec": {
   "display_name": "Python 2",
   "language": "python",
   "name": "python2"
  },
  "language_info": {
   "codemirror_mode": {
    "name": "ipython",
    "version": 2
   },
   "file_extension": ".py",
   "mimetype": "text/x-python",
   "name": "python",
   "nbconvert_exporter": "python",
   "pygments_lexer": "ipython2",
   "version": "2.7.6"
  }
 },
 "nbformat": 4,
 "nbformat_minor": 0
}
