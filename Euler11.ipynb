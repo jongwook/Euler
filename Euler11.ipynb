{
 "cells": [
  {
   "cell_type": "markdown",
   "metadata": {},
   "source": [
    "https://projecteuler.net/problem=11\n",
    "\n",
    "In the 20×20 grid below, four numbers along a diagonal line have been marked in red.\n",
    "\n",
    "[...]\n",
    "\n",
    "The product of these numbers is 26 × 63 × 78 × 14 = 1788696.\n",
    "\n",
    "What is the greatest product of four adjacent numbers in the same direction (up, down, left, right, or diagonally) in the 20×20 grid?"
   ]
  },
  {
   "cell_type": "code",
   "execution_count": 1,
   "metadata": {
    "collapsed": false
   },
   "outputs": [
    {
     "name": "stdout",
     "output_type": "stream",
     "text": [
      "70600674\n"
     ]
    }
   ],
   "source": [
    "from itertools import product\n",
    "import numpy as np\n",
    "\n",
    "with open('euler11.txt') as inp:\n",
    "    a = [[int(elem) for elem in line.split()] for line in inp]\n",
    "\n",
    "grid = [(x,y) for x in range(20) for y in range(20)]\n",
    "\n",
    "\n",
    "def up(pos, n):\n",
    "    for i in range(n):\n",
    "        yield pos[0] -i, pos[1]\n",
    "\n",
    "        \n",
    "def right(pos, n):\n",
    "    for i in range(n):\n",
    "        yield pos[0], pos[1] +i\n",
    "\n",
    "        \n",
    "def up_right(pos, n):\n",
    "    for i in range(n):\n",
    "        yield pos[0] -i, pos[1] +i\n",
    "\n",
    "        \n",
    "def down_right(pos, n):\n",
    "    for i in range(n):\n",
    "        yield pos[0] +i, pos[1] +i\n",
    "\n",
    "directions = [up, right, up_right, down_right]\n",
    "\n",
    "\n",
    "def value(pos):\n",
    "    return a[pos[0]][pos[1]] if pos in grid else 0\n",
    "\n",
    "\n",
    "def adjacent_product():\n",
    "    for pos, direction in product(grid, directions):\n",
    "        yield np.product([value(pos) for pos in direction(pos, 4)])\n",
    "\n",
    "print max(adjacent_product())\n"
   ]
  }
 ],
 "metadata": {
  "kernelspec": {
   "display_name": "Python 2",
   "language": "python",
   "name": "python2"
  },
  "language_info": {
   "codemirror_mode": {
    "name": "ipython",
    "version": 2
   },
   "file_extension": ".py",
   "mimetype": "text/x-python",
   "name": "python",
   "nbconvert_exporter": "python",
   "pygments_lexer": "ipython2",
   "version": "2.7.6"
  }
 },
 "nbformat": 4,
 "nbformat_minor": 0
}
