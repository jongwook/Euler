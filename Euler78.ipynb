{
 "cells": [
  {
   "cell_type": "markdown",
   "metadata": {},
   "source": [
    "Solution from https://en.wikipedia.org/wiki/Partition_(number_theory) :\n",
    "\n",
    "p(k) = p(k − 1) + p(k − 2) − p(k − 5) − p(k − 7) + p(k − 12) + p(k − 15) − p(k − 22) − ..."
   ]
  },
  {
   "cell_type": "code",
   "execution_count": 114,
   "metadata": {
    "collapsed": false
   },
   "outputs": [
    {
     "name": "stdout",
     "output_type": "stream",
     "text": [
      "55374\n"
     ]
    }
   ],
   "source": [
    "partitions = [1]\n",
    "pentagonals = sorted([n*(3*n - 1)//2 for n in range(-250, 250)])\n",
    "\n",
    "for n in count(1):\n",
    "    signs = cycle([1, 1, -1, -1])\n",
    "    use_pentagonals = [p for p in pentagonals if 0 < p <= n]\n",
    "\n",
    "    number_of_partitions = sum(sign * partitions[n - pentagonal] for sign, pentagonal in zip(signs, use_pentagonals))\n",
    "    if number_of_partitions % 10**6 == 0:\n",
    "        break\n",
    "    \n",
    "    partitions.append(number_of_partitions)\n",
    "\n",
    "print n\n"
   ]
  }
 ],
 "metadata": {
  "kernelspec": {
   "display_name": "Python 2",
   "language": "python",
   "name": "python2"
  },
  "language_info": {
   "codemirror_mode": {
    "name": "ipython",
    "version": 2
   },
   "file_extension": ".py",
   "mimetype": "text/x-python",
   "name": "python",
   "nbconvert_exporter": "python",
   "pygments_lexer": "ipython2",
   "version": "2.7.6"
  }
 },
 "nbformat": 4,
 "nbformat_minor": 0
}
