{
 "cells": [
  {
   "cell_type": "markdown",
   "metadata": {},
   "source": [
    "https://projecteuler.net/problem=37\n",
    "\n",
    "The number 3797 has an interesting property. Being prime itself, it is possible to continuously remove digits from left to right, and remain prime at each stage: 3797, 797, 97, and 7. Similarly we can work from right to left: 3797, 379, 37, and 3.\n",
    "\n",
    "Find the sum of the only eleven primes that are both truncatable from left to right and right to left.\n",
    "\n",
    "NOTE: 2, 3, 5, and 7 are not considered to be truncatable primes."
   ]
  },
  {
   "cell_type": "code",
   "execution_count": 1,
   "metadata": {
    "collapsed": false
   },
   "outputs": [
    {
     "name": "stdout",
     "output_type": "stream",
     "text": [
      "748317\n"
     ]
    }
   ],
   "source": [
    "from sympy import sieve, isprime\n",
    "\n",
    "\n",
    "def is_truncatable(prime):\n",
    "    s = str(prime) \n",
    "    return all(isprime(int(s[:i])) and int(isprime(s[i:])) for i in range(1, len(s)))\n",
    "\n",
    "truncatable_primes = []\n",
    "for prime in sieve:\n",
    "    if prime > 7 and is_truncatable(prime):\n",
    "        truncatable_primes.append(prime)\n",
    "        \n",
    "    if len(truncatable_primes) == 11:\n",
    "        break\n",
    "\n",
    "print sum(truncatable_primes)"
   ]
  }
 ],
 "metadata": {
  "kernelspec": {
   "display_name": "Python 2",
   "language": "python",
   "name": "python2"
  },
  "language_info": {
   "codemirror_mode": {
    "name": "ipython",
    "version": 2
   },
   "file_extension": ".py",
   "mimetype": "text/x-python",
   "name": "python",
   "nbconvert_exporter": "python",
   "pygments_lexer": "ipython2",
   "version": "2.7.6"
  }
 },
 "nbformat": 4,
 "nbformat_minor": 0
}
