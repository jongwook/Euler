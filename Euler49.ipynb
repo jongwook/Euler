{
 "cells": [
  {
   "cell_type": "markdown",
   "metadata": {},
   "source": [
    "https://projecteuler.net/problem=49\n",
    "\n",
    "The arithmetic sequence, 1487, 4817, 8147, in which each of the terms increases by 3330, is unusual in two ways: (i) each of the three terms are prime, and, (ii) each of the 4-digit numbers are permutations of one another.\n",
    "\n",
    "There are no arithmetic sequences made up of three 1-, 2-, or 3-digit primes, exhibiting this property, but there is one other 4-digit increasing sequence.\n",
    "\n",
    "What 12-digit number do you form by concatenating the three terms in this sequence?"
   ]
  },
  {
   "cell_type": "markdown",
   "metadata": {},
   "source": [
    "[Note: It is also a requirement that the terms increase by 3330]"
   ]
  },
  {
   "cell_type": "code",
   "execution_count": 1,
   "metadata": {
    "collapsed": false
   },
   "outputs": [
    {
     "name": "stdout",
     "output_type": "stream",
     "text": [
      "296962999629\n"
     ]
    }
   ],
   "source": [
    "from itertools import combinations\n",
    "from sympy import sieve\n",
    "\n",
    "primes = set(sieve.primerange(1000, 10000)) - {1487}\n",
    "\n",
    "\n",
    "def is_usable(n1, n2):\n",
    "    return n2 - n1 == 3330 and sorted(str(n1)) == sorted(str(n2))\n",
    "\n",
    "\n",
    "def prime_sequence():\n",
    "    for p1, p2 in combinations(primes, 2):\n",
    "        if is_usable(p1, p2):\n",
    "            for p3 in primes:\n",
    "                if is_usable(p2, p3):\n",
    "                    return p1, p2, p3\n",
    "\n",
    "print ''.join(str(n) for n in prime_sequence())"
   ]
  }
 ],
 "metadata": {
  "kernelspec": {
   "display_name": "Python 2",
   "language": "python",
   "name": "python2"
  },
  "language_info": {
   "codemirror_mode": {
    "name": "ipython",
    "version": 2
   },
   "file_extension": ".py",
   "mimetype": "text/x-python",
   "name": "python",
   "nbconvert_exporter": "python",
   "pygments_lexer": "ipython2",
   "version": "2.7.6"
  }
 },
 "nbformat": 4,
 "nbformat_minor": 0
}
