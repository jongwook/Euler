{
 "cells": [
  {
   "cell_type": "code",
   "execution_count": 42,
   "metadata": {
    "collapsed": false
   },
   "outputs": [
    {
     "name": "stdout",
     "output_type": "stream",
     "text": [
      "1217\n"
     ]
    }
   ],
   "source": [
    "from itertools import product, combinations, combinations_with_replacement, chain\n",
    "\n",
    "# Since they are interchangable, replace all 9s with 6s.\n",
    "squares = {'01', '04', '06', '16', '25', '36', '46', '64', '81'}\n",
    "numbers = [str(i) for i in range(9)] + ['6']\n",
    "\n",
    "def configuration_works(cube1, cube2):\n",
    "    possible_displays = {''.join(faces) for faces in chain(product(cube1, cube2), product(cube2, cube1))}\n",
    "    return squares.issubset(possible_displays)\n",
    "\n",
    "def get_solutions():\n",
    "    for cube1, cube2 in combinations_with_replacement(combinations(numbers, 6), 2):      \n",
    "        if configuration_works(cube1, cube2):\n",
    "            yield (cube1, cube2)\n",
    "\n",
    "print len(list(get_solutions()))\n"
   ]
  }
 ],
 "metadata": {
  "kernelspec": {
   "display_name": "Python 2",
   "language": "python",
   "name": "python2"
  },
  "language_info": {
   "codemirror_mode": {
    "name": "ipython",
    "version": 2
   },
   "file_extension": ".py",
   "mimetype": "text/x-python",
   "name": "python",
   "nbconvert_exporter": "python",
   "pygments_lexer": "ipython2",
   "version": "2.7.6"
  }
 },
 "nbformat": 4,
 "nbformat_minor": 0
}
