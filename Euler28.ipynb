{
 "cells": [
  {
   "cell_type": "markdown",
   "metadata": {},
   "source": [
    "https://projecteuler.net/problem=28\n",
    "\n",
    "Starting with the number 1 and moving to the right in a clockwise direction a 5 by 5 spiral is formed as follows:\n",
    "\n",
    "21 22 23 24 25  \n",
    "20 &nbsp;&nbsp;7  &nbsp;&nbsp;8  &nbsp;&nbsp;9 10  \n",
    "19  &nbsp;&nbsp;6  &nbsp;&nbsp;1  &nbsp;&nbsp;2 11  \n",
    "18  &nbsp;&nbsp;5  &nbsp;&nbsp;4  &nbsp;&nbsp;3 12  \n",
    "17 16 15 14 13\n",
    "\n",
    "It can be verified that the sum of the numbers on the diagonals is 101.\n",
    "\n",
    "What is the sum of the numbers on the diagonals in a 1001 by 1001 spiral formed in the same way?"
   ]
  },
  {
   "cell_type": "code",
   "execution_count": 2,
   "metadata": {
    "collapsed": false
   },
   "outputs": [
    {
     "name": "stdout",
     "output_type": "stream",
     "text": [
      "669171001\n"
     ]
    }
   ],
   "source": [
    "from itertools import product\n",
    "\n",
    "\n",
    "def diagonals(size):\n",
    "    n = 1\n",
    "    yield n\n",
    "    for squaresize, corner in product(range(3, size + 1, 2), range(4)):\n",
    "        n += squaresize - 1\n",
    "        yield n\n",
    "            \n",
    "print sum(diagonals(1001))"
   ]
  }
 ],
 "metadata": {
  "kernelspec": {
   "display_name": "Python 2",
   "language": "python",
   "name": "python2"
  },
  "language_info": {
   "codemirror_mode": {
    "name": "ipython",
    "version": 2
   },
   "file_extension": ".py",
   "mimetype": "text/x-python",
   "name": "python",
   "nbconvert_exporter": "python",
   "pygments_lexer": "ipython2",
   "version": "2.7.6"
  }
 },
 "nbformat": 4,
 "nbformat_minor": 0
}
