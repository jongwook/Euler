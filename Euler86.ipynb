{
 "cells": [
  {
   "cell_type": "code",
   "execution_count": 1,
   "metadata": {
    "collapsed": false
   },
   "outputs": [
    {
     "name": "stdout",
     "output_type": "stream",
     "text": [
      "1818\n"
     ]
    }
   ],
   "source": [
    "from math import sqrt\n",
    "from itertools import count\n",
    "\n",
    "def solutions_with_largest_side_equal_to(a):\n",
    "    for bc in range(1, 2 * a + 1):\n",
    "        route = sqrt(a**2 + bc**2)\n",
    "        if route == round(route):\n",
    "            for c in range(1, bc//2 + 1):\n",
    "                b = bc - c\n",
    "                if a >= b:\n",
    "                    yield a, b, c\n",
    "\n",
    "solutions = []\n",
    "for M in count(1):\n",
    "    solutions += solutions_with_largest_side_equal_to(M)\n",
    "    if len(solutions) > 1000000:\n",
    "        break\n",
    "\n",
    "print M\n"
   ]
  }
 ],
 "metadata": {
  "kernelspec": {
   "display_name": "Python 2",
   "language": "python",
   "name": "python2"
  },
  "language_info": {
   "codemirror_mode": {
    "name": "ipython",
    "version": 2
   },
   "file_extension": ".py",
   "mimetype": "text/x-python",
   "name": "python",
   "nbconvert_exporter": "python",
   "pygments_lexer": "ipython2",
   "version": "2.7.6"
  }
 },
 "nbformat": 4,
 "nbformat_minor": 0
}
