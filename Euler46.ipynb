{
 "cells": [
  {
   "cell_type": "markdown",
   "metadata": {},
   "source": [
    "https://projecteuler.net/problem=46\n",
    "\n",
    "It was proposed by Christian Goldbach that every odd composite number can be written as the sum of a prime and twice a square.\n",
    "\n",
    "9 = 7 + 2×1^2\n",
    "15 = 7 + 2×2^2\n",
    "21 = 3 + 2×3^2\n",
    "25 = 7 + 2×3^2\n",
    "27 = 19 + 2×2^2\n",
    "33 = 31 + 2×1^2\n",
    "\n",
    "It turns out that the conjecture was false.\n",
    "\n",
    "What is the smallest odd composite that cannot be written as the sum of a prime and twice a square?"
   ]
  },
  {
   "cell_type": "code",
   "execution_count": 1,
   "metadata": {
    "collapsed": false
   },
   "outputs": [
    {
     "name": "stdout",
     "output_type": "stream",
     "text": [
      "5777\n"
     ]
    }
   ],
   "source": [
    "from math import sqrt\n",
    "from sympy import sieve\n",
    "from itertools import product as prod\n",
    "\n",
    "ceiling = 10000\n",
    "primes = set(sieve.primerange(2, ceiling))\n",
    "odd_composites = set(range(3, ceiling, 2)) - primes\n",
    "squares = {i**2 for i in range(1, int(sqrt(ceiling)))}\n",
    "goldbachs = {prime + 2*square for prime, square in prod(primes, squares)}\n",
    "\n",
    "print min(list(odd_composites - goldbachs))"
   ]
  }
 ],
 "metadata": {
  "kernelspec": {
   "display_name": "Python 2",
   "language": "python",
   "name": "python2"
  },
  "language_info": {
   "codemirror_mode": {
    "name": "ipython",
    "version": 2
   },
   "file_extension": ".py",
   "mimetype": "text/x-python",
   "name": "python",
   "nbconvert_exporter": "python",
   "pygments_lexer": "ipython2",
   "version": "2.7.6"
  }
 },
 "nbformat": 4,
 "nbformat_minor": 0
}
