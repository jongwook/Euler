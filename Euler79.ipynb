{
 "cells": [
  {
   "cell_type": "code",
   "execution_count": 2,
   "metadata": {
    "collapsed": false
   },
   "outputs": [
    {
     "name": "stdout",
     "output_type": "stream",
     "text": [
      "7613289\n"
     ]
    }
   ],
   "source": [
    "from collections import Counter\n",
    "\n",
    "logins = set([line.strip() for line in open('p079_keylog.txt')])\n",
    "\n",
    "numbers_pressed_after = Counter()\n",
    "for login in logins:\n",
    "    numbers_pressed_after[login[0]] += 2\n",
    "    numbers_pressed_after[login[1]] += 1\n",
    "    \n",
    "print ''.join([number for number, count in numbers_pressed_after.most_common()])\n"
   ]
  }
 ],
 "metadata": {
  "kernelspec": {
   "display_name": "Python 2",
   "language": "python",
   "name": "python2"
  },
  "language_info": {
   "codemirror_mode": {
    "name": "ipython",
    "version": 2
   },
   "file_extension": ".py",
   "mimetype": "text/x-python",
   "name": "python",
   "nbconvert_exporter": "python",
   "pygments_lexer": "ipython2",
   "version": "2.7.6"
  }
 },
 "nbformat": 4,
 "nbformat_minor": 0
}
