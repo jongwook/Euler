{
 "cells": [
  {
   "cell_type": "markdown",
   "metadata": {},
   "source": [
    "I ignore the order of cards, and instead treat it as a random pick each turn. Likewise with three double rolls in a row is treated as an independent event with likelihood 1/n^3."
   ]
  },
  {
   "cell_type": "code",
   "execution_count": 1,
   "metadata": {
    "collapsed": false
   },
   "outputs": [
    {
     "name": "stdout",
     "output_type": "stream",
     "text": [
      "101524\n"
     ]
    }
   ],
   "source": [
    "from random import choice, randint\n",
    "from collections import Counter\n",
    "\n",
    "class Tiles():\n",
    "    GO = 0\n",
    "    CC1 = 2\n",
    "    R1 = 5\n",
    "    CH1 = 7\n",
    "    JAIL = 10\n",
    "    C1 = 11\n",
    "    U1 = 12\n",
    "    R2 = 15\n",
    "    CC2 = 17\n",
    "    CH2 = 22\n",
    "    E3 = 24\n",
    "    R3 = 25\n",
    "    U2 = 28\n",
    "    G2J = 30\n",
    "    CC3 = 33\n",
    "    R4 = 35\n",
    "    CH3 = 36\n",
    "    H2 = 39\n",
    "\n",
    "dice_sides = 4\n",
    "dice = range(1, dice_sides + 1)\n",
    "community_chest = [Tiles.GO, Tiles.JAIL] + ['']*14\n",
    "\n",
    "next_R = {\n",
    "    Tiles.CH1: Tiles.R2,\n",
    "    Tiles.CH2: Tiles.R3,\n",
    "    Tiles.CH3: Tiles.R1\n",
    "}\n",
    "\n",
    "next_U = {\n",
    "    Tiles.CH1: Tiles.U1,\n",
    "    Tiles.CH2: Tiles.U2,\n",
    "    Tiles.CH3: Tiles.U1\n",
    "}\n",
    "\n",
    "chance = [Tiles.GO, Tiles.JAIL, Tiles.C1, Tiles.E3, Tiles.H2, Tiles.R1, next_R, \n",
    "          next_R, next_U, 'Go back 3 squares'] + ['']*6\n",
    "\n",
    "pos = Tiles.GO\n",
    "\n",
    "def get_next(pos):\n",
    "    \n",
    "    roll = (choice(dice), choice(dice))\n",
    "\n",
    "    if roll[0] == roll[1] and randint(1, dice_sides**2) == 1:\n",
    "        return Tiles.JAIL\n",
    "    \n",
    "    pos += sum(roll)\n",
    "    if pos >= 40:\n",
    "        pos -= 40\n",
    "    \n",
    "    if pos in {Tiles.CC1, Tiles.CC2, Tiles.CC3}:\n",
    "        card = choice(community_chest)\n",
    "        if type(card) is int:\n",
    "            return card\n",
    "        \n",
    "    if pos in {Tiles.CH1, Tiles.CH2, Tiles.CH3}:\n",
    "        card = choice(chance)\n",
    "        if type(card) is int:\n",
    "            return card\n",
    "        elif type(card) is dict:\n",
    "            return card[pos]\n",
    "        elif card == 'Go back 3 squares':\n",
    "            pos -= 3 \n",
    "            if pos < 0:\n",
    "                pos += 40\n",
    "    \n",
    "    if pos == Tiles.G2J:\n",
    "        return Tiles.JAIL\n",
    "    \n",
    "    return pos\n",
    "        \n",
    "        \n",
    "c = Counter()\n",
    "pos = Tiles.GO\n",
    "for _ in range(10**6):\n",
    "    pos = get_next(pos)\n",
    "    c[pos] += 1\n",
    "\n",
    "result = c.most_common(3)\n",
    "print ''.join(str(item[0]) for item in result)\n"
   ]
  }
 ],
 "metadata": {
  "kernelspec": {
   "display_name": "Python 2",
   "language": "python",
   "name": "python2"
  },
  "language_info": {
   "codemirror_mode": {
    "name": "ipython",
    "version": 2
   },
   "file_extension": ".py",
   "mimetype": "text/x-python",
   "name": "python",
   "nbconvert_exporter": "python",
   "pygments_lexer": "ipython2",
   "version": "2.7.6"
  }
 },
 "nbformat": 4,
 "nbformat_minor": 0
}
