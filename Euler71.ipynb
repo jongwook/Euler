{
 "cells": [
  {
   "cell_type": "code",
   "execution_count": 4,
   "metadata": {
    "collapsed": false
   },
   "outputs": [
    {
     "name": "stdout",
     "output_type": "stream",
     "text": [
      "428570\n"
     ]
    }
   ],
   "source": [
    "from fractions import Fraction\n",
    "\n",
    "def find_nearest_fraction(fraction, ceiling):\n",
    "    \"\"\" Decrease the fraction in the smallest possible steps, \n",
    "    until we get a new fraction with a denominator less than ceiling. \"\"\"\n",
    "    while 1:\n",
    "        new_fraction = (fraction - Fraction(1, ceiling)).limit_denominator(ceiling)\n",
    "        if new_fraction < fraction:\n",
    "            return new_fraction\n",
    "\n",
    "print find_nearest_fraction(Fraction(3, 7), 10**6).numerator\n"
   ]
  }
 ],
 "metadata": {
  "kernelspec": {
   "display_name": "Python 2",
   "language": "python",
   "name": "python2"
  },
  "language_info": {
   "codemirror_mode": {
    "name": "ipython",
    "version": 2
   },
   "file_extension": ".py",
   "mimetype": "text/x-python",
   "name": "python",
   "nbconvert_exporter": "python",
   "pygments_lexer": "ipython2",
   "version": "2.7.6"
  }
 },
 "nbformat": 4,
 "nbformat_minor": 0
}
