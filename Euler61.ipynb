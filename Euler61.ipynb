{
 "cells": [
  {
   "cell_type": "code",
   "execution_count": 5,
   "metadata": {
    "collapsed": false
   },
   "outputs": [
    {
     "name": "stdout",
     "output_type": "stream",
     "text": [
      "28684\n"
     ]
    }
   ],
   "source": [
    "from itertools import count, product\n",
    "\n",
    "low, high = 1000, 10000\n",
    "\n",
    "\n",
    "def gen(func, low, high):\n",
    "    for n in count(1):\n",
    "        if func(n) > high:\n",
    "            break\n",
    "        if func(n) >= low:\n",
    "            yield func(n)\n",
    "\n",
    "polygons = {\n",
    "    'triangle': set(gen(lambda n: n * (n + 1) / 2, low, high)),\n",
    "    'square': set(gen(lambda n: n**2, low, high)),\n",
    "    'pentagonal': set(gen(lambda n: n * (3 * n -1) / 2, low, high)),\n",
    "    'hexagonal': set(gen(lambda n: n * (2*n -1), low, high)),\n",
    "    'heptagonal': set(gen(lambda n: n * (5*n -3) / 2, low, high)),\n",
    "    'octogonal': set(gen(lambda n: n * (3*n -2), low, high)),\n",
    "}\n",
    "\n",
    "\n",
    "def cycle(number):\n",
    "    for i in range(10, 100):\n",
    "        yield int(str(number)[-2:] + str(i))\n",
    "    \n",
    "\n",
    "def get_chain(starting_number, remaining_polygons, number):\n",
    "    if not remaining_polygons:\n",
    "        if starting_number in set(cycle(number)):\n",
    "            return starting_number\n",
    "        return\n",
    "\n",
    "    for next_number, polygon in product(cycle(number), remaining_polygons):\n",
    "        if next_number in polygons[polygon]:\n",
    "            result = get_chain(starting_number, remaining_polygons.copy() - {polygon}, next_number)\n",
    "            if result:\n",
    "                return next_number + result\n",
    "\n",
    "for number in polygons['pentagonal']:\n",
    "    result = get_chain(number, set(polygons) - {'pentagonal'}, number)\n",
    "    if result:\n",
    "        print result\n"
   ]
  }
 ],
 "metadata": {
  "kernelspec": {
   "display_name": "Python 2",
   "language": "python",
   "name": "python2"
  },
  "language_info": {
   "codemirror_mode": {
    "name": "ipython",
    "version": 2
   },
   "file_extension": ".py",
   "mimetype": "text/x-python",
   "name": "python",
   "nbconvert_exporter": "python",
   "pygments_lexer": "ipython2",
   "version": "2.7.6"
  }
 },
 "nbformat": 4,
 "nbformat_minor": 0
}
