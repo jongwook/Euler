{
 "cells": [
  {
   "cell_type": "code",
   "execution_count": 2,
   "metadata": {
    "collapsed": false
   },
   "outputs": [
    {
     "name": "stdout",
     "output_type": "stream",
     "text": [
      "1322\n"
     ]
    }
   ],
   "source": [
    "from sympy.ntheory.continued_fraction import continued_fraction_periodic\n",
    "\n",
    "def fraction_period(n):\n",
    "    p = continued_fraction_periodic(1, 1, n)\n",
    "    if n > 3:\n",
    "        return p[1] if len(p) > 1 else []\n",
    "    else:\n",
    "        return p[0]\n",
    "\n",
    "print sum(len(fraction_period(n)) % 2 for n in range(2, 10001))\n"
   ]
  }
 ],
 "metadata": {
  "kernelspec": {
   "display_name": "Python 2",
   "language": "python",
   "name": "python2"
  },
  "language_info": {
   "codemirror_mode": {
    "name": "ipython",
    "version": 2
   },
   "file_extension": ".py",
   "mimetype": "text/x-python",
   "name": "python",
   "nbconvert_exporter": "python",
   "pygments_lexer": "ipython2",
   "version": "2.7.6"
  }
 },
 "nbformat": 4,
 "nbformat_minor": 0
}
