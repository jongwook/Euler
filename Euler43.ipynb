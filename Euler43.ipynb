{
 "cells": [
  {
   "cell_type": "markdown",
   "metadata": {},
   "source": [
    "https://projecteuler.net/problem=43\n",
    "\n",
    "The number, 1406357289, is a 0 to 9 pandigital number because it is made up of each of the digits 0 to 9 in some order, but it also has a rather interesting sub-string divisibility property.\n",
    "\n",
    "Let d1 be the 1st digit, d2 be the 2nd digit, and so on. In this way, we note the following:\n",
    "\n",
    "d2d3d4=406 is divisible by 2  \n",
    "d3d4d5=063 is divisible by 3  \n",
    "d4d5d6=635 is divisible by 5  \n",
    "d5d6d7=357 is divisible by 7  \n",
    "d6d7d8=572 is divisible by 11  \n",
    "d7d8d9=728 is divisible by 13  \n",
    "d8d9d10=289 is divisible by 17  \n",
    "Find the sum of all 0 to 9 pandigital numbers with this property."
   ]
  },
  {
   "cell_type": "code",
   "execution_count": 2,
   "metadata": {
    "collapsed": false
   },
   "outputs": [
    {
     "name": "stdout",
     "output_type": "stream",
     "text": [
      "16695334890\n"
     ]
    }
   ],
   "source": [
    "from itertools import permutations\n",
    "from sympy import primerange\n",
    "\n",
    "divisors = list(primerange(1, 18))\n",
    "\n",
    "def pandigital_with_property():\n",
    "    for perm in permutations('0123456789'):\n",
    "        s = ''.join(perm)\n",
    "        if not any(int(s[start+1: start+4]) % divisor for start, divisor in enumerate(divisors)) and s[0] != \"0\":\n",
    "            yield int(s)\n",
    "        \n",
    "print sum(pandigital_with_property())"
   ]
  }
 ],
 "metadata": {
  "kernelspec": {
   "display_name": "Python 2",
   "language": "python",
   "name": "python2"
  },
  "language_info": {
   "codemirror_mode": {
    "name": "ipython",
    "version": 2
   },
   "file_extension": ".py",
   "mimetype": "text/x-python",
   "name": "python",
   "nbconvert_exporter": "python",
   "pygments_lexer": "ipython2",
   "version": "2.7.6"
  }
 },
 "nbformat": 4,
 "nbformat_minor": 0
}
